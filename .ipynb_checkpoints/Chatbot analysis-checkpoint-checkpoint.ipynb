{
 "cells": [
  {
   "cell_type": "code",
   "execution_count": 20,
   "id": "77a142f7",
   "metadata": {},
   "outputs": [],
   "source": [
    "import pandas as pd\n",
    "import re"
   ]
  },
  {
   "cell_type": "code",
   "execution_count": 21,
   "id": "e11f586b",
   "metadata": {},
   "outputs": [],
   "source": [
    "df=pd.read_json(\"C:/Users/arnab/Desktop/frames.json\")"
   ]
  },
  {
   "cell_type": "code",
   "execution_count": 22,
   "id": "3ff80d04",
   "metadata": {},
   "outputs": [],
   "source": [
    "dftemp=pd.DataFrame(columns=[\"ID\",\"Origin\",\"Destination\",\"nadults\",\"Budget\",\"date\"])\n",
    "# write dataframe to excel\n",
    "#dfnew.to_csv(\"C:/Users/arnab/Desktop/output2.csv\")"
   ]
  },
  {
   "cell_type": "code",
   "execution_count": 23,
   "id": "6e6cacbd",
   "metadata": {},
   "outputs": [
    {
     "data": {
      "text/html": [
       "<div>\n",
       "<style scoped>\n",
       "    .dataframe tbody tr th:only-of-type {\n",
       "        vertical-align: middle;\n",
       "    }\n",
       "\n",
       "    .dataframe tbody tr th {\n",
       "        vertical-align: top;\n",
       "    }\n",
       "\n",
       "    .dataframe thead th {\n",
       "        text-align: right;\n",
       "    }\n",
       "</style>\n",
       "<table border=\"1\" class=\"dataframe\">\n",
       "  <thead>\n",
       "    <tr style=\"text-align: right;\">\n",
       "      <th></th>\n",
       "      <th>user_id</th>\n",
       "      <th>turns</th>\n",
       "      <th>wizard_id</th>\n",
       "      <th>id</th>\n",
       "      <th>labels</th>\n",
       "    </tr>\n",
       "  </thead>\n",
       "  <tbody>\n",
       "    <tr>\n",
       "      <th>0</th>\n",
       "      <td>U22HTHYNP</td>\n",
       "      <td>[{'text': 'I'd like to book a trip to Atlantis...</td>\n",
       "      <td>U21DKG18C</td>\n",
       "      <td>e2c0fc6c-2134-4891-8353-ef16d8412c9a</td>\n",
       "      <td>{'userSurveyRating': 4.0, 'wizardSurveyTaskSuc...</td>\n",
       "    </tr>\n",
       "    <tr>\n",
       "      <th>1</th>\n",
       "      <td>U21E41CQP</td>\n",
       "      <td>[{'text': 'Hello, I am looking to book a vacat...</td>\n",
       "      <td>U21DMV0KA</td>\n",
       "      <td>4a3bfa39-2c22-42c8-8694-32b4e34415e9</td>\n",
       "      <td>{'userSurveyRating': 3.0, 'wizardSurveyTaskSuc...</td>\n",
       "    </tr>\n",
       "    <tr>\n",
       "      <th>2</th>\n",
       "      <td>U21RP4FCY</td>\n",
       "      <td>[{'text': 'Hello there i am looking to go on a...</td>\n",
       "      <td>U21E0179B</td>\n",
       "      <td>6e67ed28-e94c-4fab-96b6-68569a92682f</td>\n",
       "      <td>{'userSurveyRating': 2.0, 'wizardSurveyTaskSuc...</td>\n",
       "    </tr>\n",
       "    <tr>\n",
       "      <th>3</th>\n",
       "      <td>U22HTHYNP</td>\n",
       "      <td>[{'text': 'Hi I'd like to go to Caprica from B...</td>\n",
       "      <td>U21DKG18C</td>\n",
       "      <td>5ae76e50-5b48-4166-9f6d-67aaabd7bcaa</td>\n",
       "      <td>{'userSurveyRating': 5.0, 'wizardSurveyTaskSuc...</td>\n",
       "    </tr>\n",
       "    <tr>\n",
       "      <th>4</th>\n",
       "      <td>U21E41CQP</td>\n",
       "      <td>[{'text': 'Hello, I am looking to book a trip ...</td>\n",
       "      <td>U21DMV0KA</td>\n",
       "      <td>24603086-bb53-431e-a0d8-1dcc63518ba9</td>\n",
       "      <td>{'userSurveyRating': 5.0, 'wizardSurveyTaskSuc...</td>\n",
       "    </tr>\n",
       "  </tbody>\n",
       "</table>\n",
       "</div>"
      ],
      "text/plain": [
       "     user_id                                              turns  wizard_id  \\\n",
       "0  U22HTHYNP  [{'text': 'I'd like to book a trip to Atlantis...  U21DKG18C   \n",
       "1  U21E41CQP  [{'text': 'Hello, I am looking to book a vacat...  U21DMV0KA   \n",
       "2  U21RP4FCY  [{'text': 'Hello there i am looking to go on a...  U21E0179B   \n",
       "3  U22HTHYNP  [{'text': 'Hi I'd like to go to Caprica from B...  U21DKG18C   \n",
       "4  U21E41CQP  [{'text': 'Hello, I am looking to book a trip ...  U21DMV0KA   \n",
       "\n",
       "                                     id  \\\n",
       "0  e2c0fc6c-2134-4891-8353-ef16d8412c9a   \n",
       "1  4a3bfa39-2c22-42c8-8694-32b4e34415e9   \n",
       "2  6e67ed28-e94c-4fab-96b6-68569a92682f   \n",
       "3  5ae76e50-5b48-4166-9f6d-67aaabd7bcaa   \n",
       "4  24603086-bb53-431e-a0d8-1dcc63518ba9   \n",
       "\n",
       "                                              labels  \n",
       "0  {'userSurveyRating': 4.0, 'wizardSurveyTaskSuc...  \n",
       "1  {'userSurveyRating': 3.0, 'wizardSurveyTaskSuc...  \n",
       "2  {'userSurveyRating': 2.0, 'wizardSurveyTaskSuc...  \n",
       "3  {'userSurveyRating': 5.0, 'wizardSurveyTaskSuc...  \n",
       "4  {'userSurveyRating': 5.0, 'wizardSurveyTaskSuc...  "
      ]
     },
     "execution_count": 23,
     "metadata": {},
     "output_type": "execute_result"
    }
   ],
   "source": [
    "df.head()"
   ]
  },
  {
   "cell_type": "code",
   "execution_count": 24,
   "id": "39db0cae",
   "metadata": {},
   "outputs": [],
   "source": [
    "x=0\n",
    "for i in range(1369):\n",
    "    st=str(df[\"turns\"][i])\n",
    "    k=st.replace(\"\\'\",\"\\\"\")\n",
    "    pattern='\\\"ORIGIN_CITY\\\":[ a-zA-Z0-9\\\"\\_\\.\\,\\:]+'\n",
    "    x1=re.findall(pattern,k)\n",
    "    uid=df[\"user_id\"][i]\n",
    "    try:\n",
    "        details=df[\"turns\"][i][0][\"labels\"][\"acts\"][1][\"args\"]\n",
    "    except Exception as e:\n",
    "        if not (df[\"turns\"][525][0][\"labels\"][\"acts\"][0]):\n",
    "            date=\"\" \n",
    "   # print(x)\n",
    "    #x+=1\n",
    "    if len(details)!=0:\n",
    "        for i in details:\n",
    "            if i[\"key\"]==\"str_date\":\n",
    "                date=i[\"val\"]\n",
    "  \n",
    "    li=[]\n",
    "    for i in x1:\n",
    "        li.append(i.split(\",\"))\n",
    "    \n",
    "    for ind,l1 in enumerate(li):\n",
    "        for l2 in l1:\n",
    "            if l2.split(\":\")[0]==\"\\\"ORIGIN_CITY\\\"\":\n",
    "                dftemp.loc[ind,[\"Origin\"]]=l2.split(\":\")[1]\n",
    "            if l2.split(\":\")[0]==\" \\\"NUM_ADULTS\\\"\":\n",
    "                dftemp.loc[ind,[\"nadults\"]]=l2.split(\":\")[1]\n",
    "            if l2.split(\":\")[0]==\" \\\"PRICE_MAX\\\"\":\n",
    "                dftemp.loc[ind,[\"Budget\"]]=l2.split(\":\")[1]\n",
    "            if l2.split(\":\")[0]==\" \\\"DESTINATION_CITY\\\"\":\n",
    "                dftemp.loc[ind,[\"Destination\"]]=l2.split(\":\")[1]\n",
    "            if l2.split(\":\")[0]==\" \\\"timestamp\\\"\":\n",
    "                dftemp.loc[ind,[\"timestamp\"]]=l2.split(\":\")[1]\n",
    "            if l2.split(\":\")[0]==\" \\\"NUM_CHILDREN\\\"\":\n",
    "                dftemp.loc[ind,[\"num_children\"]]=l2.split(\":\")[1]\n",
    "            if l2.split(\":\")[0]==\" \\\"PRICE_MIN\\\"\":\n",
    "                dftemp.loc[ind,[\"price_min\"]]=l2.split(\":\")[1]\n",
    "            dftemp.loc[ind,[\"date\"]]=date\n",
    "            dftemp.loc[ind,[\"ID\"]]=uid\n",
    "    \n",
    "    x+=1\n",
    "    if x==25:\n",
    "        \n",
    "        # Append DataFrame to existing excel file\n",
    "        dftemp.to_csv(\"Final_Dataset.csv\",mode=\"a\")\n",
    "        x=0\n",
    "        #print(dftemp.memory_usage(index=True, deep=False))\n",
    "        #dftemp.drop(dftemp.index,inplace=True)\n",
    "\n",
    "    \n",
    "\n"
   ]
  },
  {
   "cell_type": "code",
   "execution_count": 25,
   "id": "b97a3383",
   "metadata": {},
   "outputs": [
    {
     "data": {
      "text/plain": [
       "user_id  \n",
       "U22K1SX9N    345\n",
       "U24V2QUKC    323\n",
       "U2709166N    214\n",
       "U231PNNA3    122\n",
       "U260BGVS6     81\n",
       "U21RP4FCY     77\n",
       "U22HTHYNP     69\n",
       "U2AMZ8TLK     63\n",
       "U23KR88NT     35\n",
       "U23KPC9QV     27\n",
       "U21E41CQP     13\n",
       "dtype: int64"
      ]
     },
     "execution_count": 25,
     "metadata": {},
     "output_type": "execute_result"
    }
   ],
   "source": [
    "df.value_counts([\"user_id\"])"
   ]
  },
  {
   "cell_type": "code",
   "execution_count": null,
   "id": "6e8e98a9",
   "metadata": {},
   "outputs": [],
   "source": []
  }
 ],
 "metadata": {
  "kernelspec": {
   "display_name": "Python 3 (ipykernel)",
   "language": "python",
   "name": "python3"
  },
  "language_info": {
   "codemirror_mode": {
    "name": "ipython",
    "version": 3
   },
   "file_extension": ".py",
   "mimetype": "text/x-python",
   "name": "python",
   "nbconvert_exporter": "python",
   "pygments_lexer": "ipython3",
   "version": "3.9.5"
  }
 },
 "nbformat": 4,
 "nbformat_minor": 5
}
