{
 "cells": [
  {
   "cell_type": "code",
   "execution_count": 1,
   "id": "812da333",
   "metadata": {},
   "outputs": [],
   "source": [
    "import pandas as pd\n",
    "import numpy as np\n",
    "import matplotlib.pyplot as plt"
   ]
  },
  {
   "cell_type": "code",
   "execution_count": 2,
   "id": "e9bab0a1",
   "metadata": {},
   "outputs": [
    {
     "data": {
      "text/html": [
       "<div>\n",
       "<style scoped>\n",
       "    .dataframe tbody tr th:only-of-type {\n",
       "        vertical-align: middle;\n",
       "    }\n",
       "\n",
       "    .dataframe tbody tr th {\n",
       "        vertical-align: top;\n",
       "    }\n",
       "\n",
       "    .dataframe thead th {\n",
       "        text-align: right;\n",
       "    }\n",
       "</style>\n",
       "<table border=\"1\" class=\"dataframe\">\n",
       "  <thead>\n",
       "    <tr style=\"text-align: right;\">\n",
       "      <th></th>\n",
       "      <th>Unnamed: 0</th>\n",
       "      <th>ID</th>\n",
       "      <th>Origin</th>\n",
       "      <th>Destination</th>\n",
       "      <th>month</th>\n",
       "      <th>day</th>\n",
       "      <th>nadults</th>\n",
       "      <th>Budget</th>\n",
       "      <th>price_min</th>\n",
       "      <th>timestamp</th>\n",
       "      <th>num_children</th>\n",
       "      <th>label</th>\n",
       "    </tr>\n",
       "  </thead>\n",
       "  <tbody>\n",
       "    <tr>\n",
       "      <th>0</th>\n",
       "      <td>0</td>\n",
       "      <td>U2709166N</td>\n",
       "      <td>Alexandria</td>\n",
       "      <td>Hiroshima</td>\n",
       "      <td>8</td>\n",
       "      <td>15</td>\n",
       "      <td>1</td>\n",
       "      <td>6700</td>\n",
       "      <td>1</td>\n",
       "      <td>1472657834</td>\n",
       "      <td>1</td>\n",
       "      <td>1</td>\n",
       "    </tr>\n",
       "    <tr>\n",
       "      <th>1</th>\n",
       "      <td>1</td>\n",
       "      <td>U2709166N</td>\n",
       "      <td>Alexandria</td>\n",
       "      <td>Hiroshima</td>\n",
       "      <td>8</td>\n",
       "      <td>15</td>\n",
       "      <td>1</td>\n",
       "      <td>1800</td>\n",
       "      <td>2000</td>\n",
       "      <td>1472658012</td>\n",
       "      <td>1</td>\n",
       "      <td>1</td>\n",
       "    </tr>\n",
       "    <tr>\n",
       "      <th>2</th>\n",
       "      <td>2</td>\n",
       "      <td>U2709166N</td>\n",
       "      <td>Alexandria</td>\n",
       "      <td>Hiroshima</td>\n",
       "      <td>8</td>\n",
       "      <td>15</td>\n",
       "      <td>1</td>\n",
       "      <td>3200</td>\n",
       "      <td>13000</td>\n",
       "      <td>1472658046</td>\n",
       "      <td>1</td>\n",
       "      <td>1</td>\n",
       "    </tr>\n",
       "    <tr>\n",
       "      <th>3</th>\n",
       "      <td>3</td>\n",
       "      <td>U2709166N</td>\n",
       "      <td>Alexandria</td>\n",
       "      <td>Phoenix</td>\n",
       "      <td>8</td>\n",
       "      <td>15</td>\n",
       "      <td>1</td>\n",
       "      <td>5800</td>\n",
       "      <td>13000</td>\n",
       "      <td>1472658095</td>\n",
       "      <td>1</td>\n",
       "      <td>2</td>\n",
       "    </tr>\n",
       "    <tr>\n",
       "      <th>4</th>\n",
       "      <td>4</td>\n",
       "      <td>U2709166N</td>\n",
       "      <td>Alexandria</td>\n",
       "      <td>Phoenix</td>\n",
       "      <td>8</td>\n",
       "      <td>15</td>\n",
       "      <td>1</td>\n",
       "      <td>1800</td>\n",
       "      <td>8000</td>\n",
       "      <td>1472658099</td>\n",
       "      <td>1</td>\n",
       "      <td>2</td>\n",
       "    </tr>\n",
       "    <tr>\n",
       "      <th>5</th>\n",
       "      <td>5</td>\n",
       "      <td>U2709166N</td>\n",
       "      <td>Alexandria</td>\n",
       "      <td>Phoenix</td>\n",
       "      <td>8</td>\n",
       "      <td>15</td>\n",
       "      <td>1</td>\n",
       "      <td>1800</td>\n",
       "      <td>5000</td>\n",
       "      <td>1472658123</td>\n",
       "      <td>1</td>\n",
       "      <td>2</td>\n",
       "    </tr>\n",
       "    <tr>\n",
       "      <th>6</th>\n",
       "      <td>6</td>\n",
       "      <td>U22K1SX9N</td>\n",
       "      <td>Baltimore</td>\n",
       "      <td>Fukuoka</td>\n",
       "      <td>8</td>\n",
       "      <td>25</td>\n",
       "      <td>4</td>\n",
       "      <td>3900</td>\n",
       "      <td>3000</td>\n",
       "      <td>1471530362</td>\n",
       "      <td>40</td>\n",
       "      <td>3</td>\n",
       "    </tr>\n",
       "    <tr>\n",
       "      <th>7</th>\n",
       "      <td>7</td>\n",
       "      <td>U22K1SX9N</td>\n",
       "      <td>Baltimore</td>\n",
       "      <td>Las Vegas</td>\n",
       "      <td>8</td>\n",
       "      <td>25</td>\n",
       "      <td>4</td>\n",
       "      <td>3900</td>\n",
       "      <td>3000</td>\n",
       "      <td>1471530346</td>\n",
       "      <td>40</td>\n",
       "      <td>4</td>\n",
       "    </tr>\n",
       "    <tr>\n",
       "      <th>8</th>\n",
       "      <td>8</td>\n",
       "      <td>U22K1SX9N</td>\n",
       "      <td>Barcelona</td>\n",
       "      <td>Curitiba</td>\n",
       "      <td>9</td>\n",
       "      <td>1</td>\n",
       "      <td>1</td>\n",
       "      <td>3700</td>\n",
       "      <td>4000</td>\n",
       "      <td>1473371651</td>\n",
       "      <td>1</td>\n",
       "      <td>5</td>\n",
       "    </tr>\n",
       "    <tr>\n",
       "      <th>9</th>\n",
       "      <td>9</td>\n",
       "      <td>U22K1SX9N</td>\n",
       "      <td>Barcelona</td>\n",
       "      <td>Curitiba</td>\n",
       "      <td>9</td>\n",
       "      <td>1</td>\n",
       "      <td>1</td>\n",
       "      <td>3700</td>\n",
       "      <td>8000</td>\n",
       "      <td>1473371656</td>\n",
       "      <td>7</td>\n",
       "      <td>5</td>\n",
       "    </tr>\n",
       "  </tbody>\n",
       "</table>\n",
       "</div>"
      ],
      "text/plain": [
       "   Unnamed: 0         ID      Origin Destination  month  day  nadults  Budget  \\\n",
       "0           0  U2709166N  Alexandria   Hiroshima      8   15        1    6700   \n",
       "1           1  U2709166N  Alexandria   Hiroshima      8   15        1    1800   \n",
       "2           2  U2709166N  Alexandria   Hiroshima      8   15        1    3200   \n",
       "3           3  U2709166N  Alexandria     Phoenix      8   15        1    5800   \n",
       "4           4  U2709166N  Alexandria     Phoenix      8   15        1    1800   \n",
       "5           5  U2709166N  Alexandria     Phoenix      8   15        1    1800   \n",
       "6           6  U22K1SX9N   Baltimore     Fukuoka      8   25        4    3900   \n",
       "7           7  U22K1SX9N   Baltimore   Las Vegas      8   25        4    3900   \n",
       "8           8  U22K1SX9N   Barcelona    Curitiba      9    1        1    3700   \n",
       "9           9  U22K1SX9N   Barcelona    Curitiba      9    1        1    3700   \n",
       "\n",
       "   price_min   timestamp  num_children  label  \n",
       "0          1  1472657834             1      1  \n",
       "1       2000  1472658012             1      1  \n",
       "2      13000  1472658046             1      1  \n",
       "3      13000  1472658095             1      2  \n",
       "4       8000  1472658099             1      2  \n",
       "5       5000  1472658123             1      2  \n",
       "6       3000  1471530362            40      3  \n",
       "7       3000  1471530346            40      4  \n",
       "8       4000  1473371651             1      5  \n",
       "9       8000  1473371656             7      5  "
      ]
     },
     "execution_count": 2,
     "metadata": {},
     "output_type": "execute_result"
    }
   ],
   "source": [
    "df=pd.read_csv(\"EDA_file.csv\")\n",
    "df.head(10)"
   ]
  },
  {
   "cell_type": "code",
   "execution_count": 3,
   "id": "858be482",
   "metadata": {},
   "outputs": [
    {
     "data": {
      "text/html": [
       "<div>\n",
       "<style scoped>\n",
       "    .dataframe tbody tr th:only-of-type {\n",
       "        vertical-align: middle;\n",
       "    }\n",
       "\n",
       "    .dataframe tbody tr th {\n",
       "        vertical-align: top;\n",
       "    }\n",
       "\n",
       "    .dataframe thead th {\n",
       "        text-align: right;\n",
       "    }\n",
       "</style>\n",
       "<table border=\"1\" class=\"dataframe\">\n",
       "  <thead>\n",
       "    <tr style=\"text-align: right;\">\n",
       "      <th></th>\n",
       "      <th>ID</th>\n",
       "      <th>Origin</th>\n",
       "      <th>Destination</th>\n",
       "      <th>month</th>\n",
       "      <th>day</th>\n",
       "      <th>nadults</th>\n",
       "      <th>Budget</th>\n",
       "      <th>price_min</th>\n",
       "      <th>timestamp</th>\n",
       "      <th>num_children</th>\n",
       "      <th>label</th>\n",
       "    </tr>\n",
       "  </thead>\n",
       "  <tbody>\n",
       "    <tr>\n",
       "      <th>0</th>\n",
       "      <td>U2709166N</td>\n",
       "      <td>Alexandria</td>\n",
       "      <td>Hiroshima</td>\n",
       "      <td>8</td>\n",
       "      <td>15</td>\n",
       "      <td>1</td>\n",
       "      <td>6700</td>\n",
       "      <td>1</td>\n",
       "      <td>1472657834</td>\n",
       "      <td>1</td>\n",
       "      <td>1</td>\n",
       "    </tr>\n",
       "    <tr>\n",
       "      <th>1</th>\n",
       "      <td>U2709166N</td>\n",
       "      <td>Alexandria</td>\n",
       "      <td>Hiroshima</td>\n",
       "      <td>8</td>\n",
       "      <td>15</td>\n",
       "      <td>1</td>\n",
       "      <td>1800</td>\n",
       "      <td>2000</td>\n",
       "      <td>1472658012</td>\n",
       "      <td>1</td>\n",
       "      <td>1</td>\n",
       "    </tr>\n",
       "    <tr>\n",
       "      <th>2</th>\n",
       "      <td>U2709166N</td>\n",
       "      <td>Alexandria</td>\n",
       "      <td>Hiroshima</td>\n",
       "      <td>8</td>\n",
       "      <td>15</td>\n",
       "      <td>1</td>\n",
       "      <td>3200</td>\n",
       "      <td>13000</td>\n",
       "      <td>1472658046</td>\n",
       "      <td>1</td>\n",
       "      <td>1</td>\n",
       "    </tr>\n",
       "    <tr>\n",
       "      <th>3</th>\n",
       "      <td>U2709166N</td>\n",
       "      <td>Alexandria</td>\n",
       "      <td>Phoenix</td>\n",
       "      <td>8</td>\n",
       "      <td>15</td>\n",
       "      <td>1</td>\n",
       "      <td>5800</td>\n",
       "      <td>13000</td>\n",
       "      <td>1472658095</td>\n",
       "      <td>1</td>\n",
       "      <td>2</td>\n",
       "    </tr>\n",
       "    <tr>\n",
       "      <th>4</th>\n",
       "      <td>U2709166N</td>\n",
       "      <td>Alexandria</td>\n",
       "      <td>Phoenix</td>\n",
       "      <td>8</td>\n",
       "      <td>15</td>\n",
       "      <td>1</td>\n",
       "      <td>1800</td>\n",
       "      <td>8000</td>\n",
       "      <td>1472658099</td>\n",
       "      <td>1</td>\n",
       "      <td>2</td>\n",
       "    </tr>\n",
       "    <tr>\n",
       "      <th>...</th>\n",
       "      <td>...</td>\n",
       "      <td>...</td>\n",
       "      <td>...</td>\n",
       "      <td>...</td>\n",
       "      <td>...</td>\n",
       "      <td>...</td>\n",
       "      <td>...</td>\n",
       "      <td>...</td>\n",
       "      <td>...</td>\n",
       "      <td>...</td>\n",
       "      <td>...</td>\n",
       "    </tr>\n",
       "    <tr>\n",
       "      <th>1426</th>\n",
       "      <td>U24V2QUKC</td>\n",
       "      <td>washington</td>\n",
       "      <td>sendai</td>\n",
       "      <td>9</td>\n",
       "      <td>1</td>\n",
       "      <td>1</td>\n",
       "      <td>3300</td>\n",
       "      <td>500</td>\n",
       "      <td>1472154364</td>\n",
       "      <td>1</td>\n",
       "      <td>379</td>\n",
       "    </tr>\n",
       "    <tr>\n",
       "      <th>1427</th>\n",
       "      <td>U24V2QUKC</td>\n",
       "      <td>washington</td>\n",
       "      <td>sendai</td>\n",
       "      <td>9</td>\n",
       "      <td>1</td>\n",
       "      <td>1</td>\n",
       "      <td>2000</td>\n",
       "      <td>4000</td>\n",
       "      <td>1472154450</td>\n",
       "      <td>1</td>\n",
       "      <td>379</td>\n",
       "    </tr>\n",
       "    <tr>\n",
       "      <th>1428</th>\n",
       "      <td>U24V2QUKC</td>\n",
       "      <td>washington</td>\n",
       "      <td>sendai</td>\n",
       "      <td>9</td>\n",
       "      <td>1</td>\n",
       "      <td>1</td>\n",
       "      <td>2000</td>\n",
       "      <td>500</td>\n",
       "      <td>1472154452</td>\n",
       "      <td>1</td>\n",
       "      <td>379</td>\n",
       "    </tr>\n",
       "    <tr>\n",
       "      <th>1429</th>\n",
       "      <td>U24V2QUKC</td>\n",
       "      <td>washington</td>\n",
       "      <td>sendai</td>\n",
       "      <td>9</td>\n",
       "      <td>1</td>\n",
       "      <td>1</td>\n",
       "      <td>3300</td>\n",
       "      <td>4500</td>\n",
       "      <td>1472154605</td>\n",
       "      <td>1</td>\n",
       "      <td>379</td>\n",
       "    </tr>\n",
       "    <tr>\n",
       "      <th>1430</th>\n",
       "      <td>U24V2QUKC</td>\n",
       "      <td>washington</td>\n",
       "      <td>sendai</td>\n",
       "      <td>9</td>\n",
       "      <td>1</td>\n",
       "      <td>1</td>\n",
       "      <td>3500</td>\n",
       "      <td>4000</td>\n",
       "      <td>1472154678</td>\n",
       "      <td>1</td>\n",
       "      <td>379</td>\n",
       "    </tr>\n",
       "  </tbody>\n",
       "</table>\n",
       "<p>1431 rows × 11 columns</p>\n",
       "</div>"
      ],
      "text/plain": [
       "             ID      Origin Destination  month  day  nadults  Budget  \\\n",
       "0     U2709166N  Alexandria   Hiroshima      8   15        1    6700   \n",
       "1     U2709166N  Alexandria   Hiroshima      8   15        1    1800   \n",
       "2     U2709166N  Alexandria   Hiroshima      8   15        1    3200   \n",
       "3     U2709166N  Alexandria     Phoenix      8   15        1    5800   \n",
       "4     U2709166N  Alexandria     Phoenix      8   15        1    1800   \n",
       "...         ...         ...         ...    ...  ...      ...     ...   \n",
       "1426  U24V2QUKC  washington      sendai      9    1        1    3300   \n",
       "1427  U24V2QUKC  washington      sendai      9    1        1    2000   \n",
       "1428  U24V2QUKC  washington      sendai      9    1        1    2000   \n",
       "1429  U24V2QUKC  washington      sendai      9    1        1    3300   \n",
       "1430  U24V2QUKC  washington      sendai      9    1        1    3500   \n",
       "\n",
       "      price_min   timestamp  num_children  label  \n",
       "0             1  1472657834             1      1  \n",
       "1          2000  1472658012             1      1  \n",
       "2         13000  1472658046             1      1  \n",
       "3         13000  1472658095             1      2  \n",
       "4          8000  1472658099             1      2  \n",
       "...         ...         ...           ...    ...  \n",
       "1426        500  1472154364             1    379  \n",
       "1427       4000  1472154450             1    379  \n",
       "1428        500  1472154452             1    379  \n",
       "1429       4500  1472154605             1    379  \n",
       "1430       4000  1472154678             1    379  \n",
       "\n",
       "[1431 rows x 11 columns]"
      ]
     },
     "execution_count": 3,
     "metadata": {},
     "output_type": "execute_result"
    }
   ],
   "source": [
    "df.drop([\"Unnamed: 0\"],axis=1,inplace=True)\n",
    "df"
   ]
  },
  {
   "cell_type": "code",
   "execution_count": 4,
   "id": "1f3a0452",
   "metadata": {},
   "outputs": [],
   "source": [
    "# Most visited city ( Destination ) Hiroshima\n",
    "# Most important ( Origin ) Alexandria\n",
    "# Most busy ( to and fro ) Punta Cana \n",
    "# Less important cities ( Origin )\n",
    "# Family friendly places\n",
    "# School or college excursions\n",
    "# Most favourable time of the year for travel ( weather, events , tourist friendly atmosphere( clear skies.....))\n",
    "# Most favourable budget.( Average value ) to segregate luxury tours and affordable tours\n",
    "# Seperate out budget as luxury and affordable, then identify those cities which have most luxury tours ( posh areas (Origin),Main Tourism( Destination )).\n",
    "# Min. price for a particular tour.\n",
    "# Maximum people going out of a city at minimum price points towards LACK OF INDUSTRIES OR LOW SKILLED LABOUR at that place, without return travel.(considering PRICE_MIN)\n",
    "# Distribtions finding. ***"
   ]
  },
  {
   "cell_type": "code",
   "execution_count": 5,
   "id": "f9ac0c6d",
   "metadata": {},
   "outputs": [
    {
     "data": {
      "text/plain": [
       "<BarContainer object of 15 artists>"
      ]
     },
     "execution_count": 5,
     "metadata": {},
     "output_type": "execute_result"
    },
    {
     "data": {
      "image/png": "[encoded data removed]",
      "text/plain": [
       "<Figure size 720x360 with 1 Axes>"
      ]
     },
     "metadata": {
      "needs_background": "light"
     },
     "output_type": "display_data"
    }
   ],
   "source": [
    "# Most important city ( Origin )\n",
    "plt.figure(figsize=(10,5))\n",
    "plt.barh(df['Origin'].unique()[:15], df['Origin'].value_counts()[:15])"
   ]
  },
  {
   "cell_type": "code",
   "execution_count": 6,
   "id": "57df6738",
   "metadata": {},
   "outputs": [
    {
     "data": {
      "text/plain": [
       "<BarContainer object of 15 artists>"
      ]
     },
     "execution_count": 6,
     "metadata": {},
     "output_type": "execute_result"
    },
    {
     "data": {
      "image/png": "[encoded data removed]",
      "text/plain": [
       "<Figure size 720x360 with 1 Axes>"
      ]
     },
     "metadata": {
      "needs_background": "light"
     },
     "output_type": "display_data"
    }
   ],
   "source": [
    "# Most visited city ( Destination )\n",
    "plt.figure(figsize=(10,5))\n",
    "plt.barh(df['Destination'].unique()[:15], df['Destination'].value_counts()[:15])"
   ]
  },
  {
   "cell_type": "code",
   "execution_count": 7,
   "id": "81698a1a",
   "metadata": {},
   "outputs": [],
   "source": [
    "import seaborn as sns"
   ]
  },
  {
   "cell_type": "code",
   "execution_count": 8,
   "id": "55425fda",
   "metadata": {},
   "outputs": [
    {
     "data": {
      "text/plain": [
       "136.6"
      ]
     },
     "execution_count": 8,
     "metadata": {},
     "output_type": "execute_result"
    }
   ],
   "source": [
    "df['Origin'].value_counts()[:5].mean()"
   ]
  },
  {
   "cell_type": "code",
   "execution_count": 9,
   "id": "f8e57778",
   "metadata": {},
   "outputs": [
    {
     "data": {
      "text/plain": [
       "112.0"
      ]
     },
     "execution_count": 9,
     "metadata": {},
     "output_type": "execute_result"
    }
   ],
   "source": [
    "df['Destination'].value_counts()[:5].mean()"
   ]
  },
  {
   "cell_type": "code",
   "execution_count": 10,
   "id": "28a0d460",
   "metadata": {},
   "outputs": [
    {
     "data": {
      "text/plain": [
       "{'tofino': 408,\n",
       " 'Mannheim': 91,\n",
       " 'punta cana': 96,\n",
       " 'Santa Cruz': 64,\n",
       " 'Houston': 39,\n",
       " 'tijuana': 39,\n",
       " 'kobe': 32,\n",
       " 'sendai': 25,\n",
       " 'tampa': 23,\n",
       " 'jerusalem': 18,\n",
       " 'kingston': 17,\n",
       " 'vancouver': 16,\n",
       " 'Tokyo': 16,\n",
       " 'Nagoya': 15,\n",
       " 'Kingston': 15,\n",
       " 'Toronto': 14,\n",
       " 'la paz': 14,\n",
       " 'Seattle': 14,\n",
       " 'Brasilia': 13,\n",
       " 'Sydney': 13,\n",
       " 'belo horizonte': 13,\n",
       " 'Guadalajara': 13,\n",
       " 'Buenos Aires': 13,\n",
       " 'Barcelona': 12,\n",
       " 'toronto': 12,\n",
       " 'lima': 11,\n",
       " 'Belo Horizonte': 10,\n",
       " 'barcelona': 10,\n",
       " 'denver': 10,\n",
       " 'monterrey': 9,\n",
       " 'washington': 9,\n",
       " 'cancun': 8,\n",
       " 'santiago': 8,\n",
       " 'Recife': 8,\n",
       " 'mexico city': 8,\n",
       " 'Cleveland': 8,\n",
       " 'Tijuana': 8,\n",
       " 'calgary': 8,\n",
       " 'Ulsan': 7,\n",
       " 'Belem': 7,\n",
       " 'burlington': 7,\n",
       " 'rome': 7,\n",
       " 'berlin': 7,\n",
       " 'brasilia': 7,\n",
       " 'london': 6,\n",
       " 'san francisco': 6,\n",
       " 'north vancouver': 6,\n",
       " 'alexandria': 6,\n",
       " 'Alexandria': 6,\n",
       " 'Long Beach': 6,\n",
       " 'Queenstown': 6,\n",
       " 'North Vancouver': 6,\n",
       " 'Santo Domingo': 5,\n",
       " 'salvador': 5,\n",
       " 'Manaus': 5,\n",
       " 'Burlington': 5,\n",
       " 'essen': 5,\n",
       " 'Beijing': 4,\n",
       " 'paris': 4,\n",
       " 'baltimore': 4,\n",
       " 'phoenix': 4,\n",
       " 'Campinas': 4,\n",
       " 'Tofino': 4,\n",
       " 'Termina': 4,\n",
       " 'Rio de Janeiro': 4,\n",
       " 'recife': 4,\n",
       " 'Cairo': 4,\n",
       " 'Busan': 4,\n",
       " 'Rosario': 4,\n",
       " 'Sapporo': 4,\n",
       " 'valencia': 4,\n",
       " 'minneapolis': 4,\n",
       " 'Kabul': 3,\n",
       " 'Melbourne': 3,\n",
       " 'Monterrey': 3,\n",
       " 'Phoenix': 3,\n",
       " 'Curitiba': 3,\n",
       " 'Toluca': 3,\n",
       " 'Calgary': 3,\n",
       " 'st. petersburg': 3,\n",
       " 'Berlin': 3,\n",
       " 'vitoria': 3,\n",
       " 'porto alegre': 2,\n",
       " 'pittsburgh': 2,\n",
       " 'Jerusalem': 2,\n",
       " 'Columbus': 2,\n",
       " 'philadelphia': 2,\n",
       " 'st. louis': 2,\n",
       " 'Fortaleza': 2,\n",
       " 'new york': 2,\n",
       " 'Fukuoka': 2,\n",
       " 'Rome': 2,\n",
       " 'Tampa': 2,\n",
       " 'Vancouver': 2,\n",
       " 'Puebla': 2,\n",
       " 'madrid': 2,\n",
       " 'Osaka': 2,\n",
       " 'Baltimore': 2,\n",
       " 'Minneapolis': 2,\n",
       " 'Stuttgart': 2,\n",
       " 'St. Petersburg': 2,\n",
       " 'fort lauderdale': 2,\n",
       " 'Leon': 2,\n",
       " 'Las Vegas': 2,\n",
       " 'Santos': 2,\n",
       " 'San Juan': 2,\n",
       " 'Resife': 1,\n",
       " 'tel aviv': 1,\n",
       " 'San Antonio': 1,\n",
       " 'Tel Aviv': 1,\n",
       " 'Tijuama': 1,\n",
       " 'melbourne': 1,\n",
       " 'santo domingo': 1,\n",
       " 'Porto': 1,\n",
       " 'Pittsburgh': 1,\n",
       " 'Montreal': 1,\n",
       " 'Fort Lauderdale': 1,\n",
       " 'Milan': 1,\n",
       " 'chicago bay': 1,\n",
       " 'Los Angeles': 1,\n",
       " 'mos eisley': 1,\n",
       " 'montreal': 1,\n",
       " 'Kochi': 1,\n",
       " 'Lima': 1}"
      ]
     },
     "execution_count": 10,
     "metadata": {},
     "output_type": "execute_result"
    }
   ],
   "source": [
    "d1=df['Origin'].value_counts().to_dict()\n",
    "d1.update({'punta cana':96})\n",
    "del d1[\"Punta Cana\"]\n",
    "d1\n",
    "\n"
   ]
  },
  {
   "cell_type": "code",
   "execution_count": 11,
   "id": "57e70f82",
   "metadata": {},
   "outputs": [
    {
     "data": {
      "text/plain": [
       "{'sao paulo': 402,\n",
       " 'punta cana': 81,\n",
       " 'Denver': 43,\n",
       " 'Toronto': 32,\n",
       " 'porto alegre': 24,\n",
       " 'los angeles': 24,\n",
       " 'New York': 22,\n",
       " 'Rio de Janeiro': 21,\n",
       " 'brasilia': 21,\n",
       " 'rome': 21,\n",
       " 'curitiba': 20,\n",
       " 'sacramento': 19,\n",
       " 'San Antonio': 19,\n",
       " 'kobe': 19,\n",
       " 'St. Petersburg': 17,\n",
       " 'leon': 16,\n",
       " 'santo domingo': 16,\n",
       " 'Busan': 15,\n",
       " 'Hamburg': 15,\n",
       " 'Burlington': 15,\n",
       " 'rosario': 14,\n",
       " 'Brasilia': 14,\n",
       " 'kyoto': 14,\n",
       " 'Halifax': 14,\n",
       " 'sydney': 14,\n",
       " 'Minneapolis': 13,\n",
       " 'Alexandria': 13,\n",
       " 'Brazil': 12,\n",
       " 'Porto Alegre': 12,\n",
       " 'Pittsburgh': 10,\n",
       " 'santa cruz': 10,\n",
       " 'Santo Domingo': 9,\n",
       " 'indianapolis': 9,\n",
       " 'guadalajara': 8,\n",
       " 'Hiroshima': 7,\n",
       " 'miami': 7,\n",
       " 'San Diego': 7,\n",
       " 'Tijuana': 7,\n",
       " 'melbourne': 6,\n",
       " 'Queenstown': 6,\n",
       " 'recife': 6,\n",
       " 'Vancouver': 6,\n",
       " 'Ulsan': 6,\n",
       " 'nagoya': 6,\n",
       " 'belem': 6,\n",
       " 'paris': 6,\n",
       " 'phoenix': 6,\n",
       " 'sendai': 6,\n",
       " 'Lima': 6,\n",
       " 'Curitiba': 6,\n",
       " 'Barcelona': 6,\n",
       " 'Sao Paulo': 6,\n",
       " 'Milan': 6,\n",
       " 'Naples': 6,\n",
       " 'Manaus': 5,\n",
       " 'San Juan': 5,\n",
       " 'Madrid': 5,\n",
       " 'burlington': 5,\n",
       " 'osaka': 5,\n",
       " 'manaus': 5,\n",
       " 'Manas': 5,\n",
       " 'Atlanta': 5,\n",
       " 'kingston': 5,\n",
       " 'la paz': 5,\n",
       " 'goiania': 4,\n",
       " 'porto': 4,\n",
       " 'naples': 4,\n",
       " 'berlin': 4,\n",
       " 'boston': 4,\n",
       " 'ciudad juarez': 4,\n",
       " 'rio de janeiro': 4,\n",
       " 'long beach': 4,\n",
       " 'Chicago': 4,\n",
       " 'marseille': 4,\n",
       " 'Fukuoka': 4,\n",
       " 'Atlantis': 4,\n",
       " 'buenos aires': 3,\n",
       " 'denver': 3,\n",
       " 'Mexico City': 3,\n",
       " 'Guadalajara': 3,\n",
       " 'atlanta': 3,\n",
       " 'salvador': 3,\n",
       " 'Phoenix': 3,\n",
       " 'hiroshima': 3,\n",
       " 'madrid': 3,\n",
       " 'La Paz': 3,\n",
       " 'Rosario': 3,\n",
       " 'pittsburgh': 3,\n",
       " 'vancouver': 3,\n",
       " 'Santios': 3,\n",
       " 'Las Vegas': 3,\n",
       " 'rosarioe': 3,\n",
       " 'san juan': 3,\n",
       " 'Buenos Aires': 3,\n",
       " 'Bel Horizonte': 3,\n",
       " 'Santos': 3,\n",
       " 'Kochi': 3,\n",
       " 'Kingston': 3,\n",
       " 'san jose': 3,\n",
       " 'Istanbul': 3,\n",
       " 'philadelphia': 2,\n",
       " 'dublin': 2,\n",
       " 'Santso': 2,\n",
       " 'manas': 2,\n",
       " 'Goiania': 2,\n",
       " 'milan': 2,\n",
       " 'birmingham': 2,\n",
       " 'lima': 2,\n",
       " 'tampa': 2,\n",
       " 'minneapolis': 2,\n",
       " 'hamburg': 2,\n",
       " 'Montreal': 2,\n",
       " 'munich': 2,\n",
       " 'Detroit': 2,\n",
       " 'Rome': 2,\n",
       " 'St. Louis': 2,\n",
       " 'toronto': 2,\n",
       " 'Toluca': 2,\n",
       " 'Tofino': 2,\n",
       " 'Monterrey': 2,\n",
       " 'Leon': 2,\n",
       " 'Fortaleza': 2,\n",
       " 'Recife': 2,\n",
       " 'Long Beach': 2,\n",
       " 'Berlin': 2,\n",
       " 'Birmingham': 2,\n",
       " 'Frankfurt': 2,\n",
       " 'Hiroshami': 2,\n",
       " 'Santiago': 2,\n",
       " 'Essen': 2,\n",
       " 'Cairo': 2,\n",
       " 'Detoit': 2,\n",
       " 'San Francisco': 2,\n",
       " 'Puebla': 1,\n",
       " 'Marseille': 1,\n",
       " 'Campinas': 1,\n",
       " 'baltimore': 1,\n",
       " 'Sacramento': 1,\n",
       " 'Sapporo': 1,\n",
       " 'Salvador': 1,\n",
       " 'kabul': 1,\n",
       " 'santos': 1,\n",
       " 'athens': 1,\n",
       " 'Los Angeles': 1,\n",
       " 'calgary': 1,\n",
       " 'cairo': 1,\n",
       " 'Mannheim': 1,\n",
       " 'ulsan': 1,\n",
       " 'santo dominican': 1,\n",
       " 'Baltimore': 1,\n",
       " 'Fort Lauderdale': 1,\n",
       " 'Campinnas': 1,\n",
       " 'tofino': 1,\n",
       " 'San Antoni': 1,\n",
       " 'cancun': 1,\n",
       " 'new york': 1,\n",
       " 'Cleveland': 1,\n",
       " 'Santa Cruz': 1,\n",
       " 'tokyo': 1,\n",
       " 'Maceio': 1,\n",
       " 'amburg': 1,\n",
       " 'columbus': 1,\n",
       " 'Vitoria': 1,\n",
       " 'Cancun': 1,\n",
       " 'puebla': 1,\n",
       " 'monterrey': 1,\n",
       " 'Washington': 1,\n",
       " 'columbo': 1,\n",
       " 'houston': 1,\n",
       " 'fukuoka': 1,\n",
       " 'Kobe': 1,\n",
       " 'essen': 1,\n",
       " 'Belem': 1,\n",
       " 'fortaleza': 1,\n",
       " 'las vegas': 1,\n",
       " 'Stuttgart': 1}"
      ]
     },
     "execution_count": 11,
     "metadata": {},
     "output_type": "execute_result"
    }
   ],
   "source": [
    "d2=df['Destination'].value_counts().to_dict()\n",
    "d2.update({'punta cana':81})\n",
    "del d2[\"Punta Cana\"]\n",
    "d2"
   ]
  },
  {
   "cell_type": "code",
   "execution_count": 12,
   "id": "e494644b",
   "metadata": {},
   "outputs": [
    {
     "name": "stdout",
     "output_type": "stream",
     "text": [
      "punta cana\n"
     ]
    }
   ],
   "source": [
    "l=[]\n",
    "for i in d1.items():\n",
    "    if i[1]>=80 and i[1]<=120:\n",
    "        l.append(i[0])\n",
    "for j in d2.items():\n",
    "    if j[1]>=80 and j[1]<=120:\n",
    "        if j[0] in l:\n",
    "            print(j[0])\n",
    "        "
   ]
  },
  {
   "cell_type": "markdown",
   "id": "8b1e8f7e",
   "metadata": {},
   "source": [
    "# There, Punta Cana is the most important tourist place in Caribbean. The Punta Cana International Airport is the primary airport. \n",
    "# In 2014, Punta Cana received over 2.4 million passengers, making it the second-busiest airport in the Caribbean."
   ]
  },
  {
   "cell_type": "code",
   "execution_count": 13,
   "id": "947ca6eb",
   "metadata": {},
   "outputs": [
    {
     "name": "stdout",
     "output_type": "stream",
     "text": [
      "1.0   1.0\n"
     ]
    }
   ],
   "source": [
    "me1=df['Origin'].value_counts()[-11:-1].mean()\n",
    "me2=df['Destination'].value_counts()[-11:-1].mean()\n",
    "print(me1,\" \",me2)"
   ]
  },
  {
   "cell_type": "code",
   "execution_count": 14,
   "id": "24ac8e7e",
   "metadata": {},
   "outputs": [
    {
     "name": "stdout",
     "output_type": "stream",
     "text": [
      "Los Angeles\n",
      "Fort Lauderdale\n"
     ]
    }
   ],
   "source": [
    "l1=[]\n",
    "for i in d1.items():\n",
    "    if i[1]==1:\n",
    "        l1.append(i[0])\n",
    "for j in d2.items():\n",
    "    if j[1]==1:\n",
    "        if j[0] in l1:\n",
    "            print(j[0])"
   ]
  },
  {
   "cell_type": "code",
   "execution_count": 15,
   "id": "ce1fd0cf",
   "metadata": {},
   "outputs": [
    {
     "data": {
      "text/plain": [
       "Burlington      14\n",
       "kobe             8\n",
       "Porto Alegre     8\n",
       "Frankfurt        2\n",
       "porto            2\n",
       "paris            2\n",
       "Mexico City      1\n",
       "phoenix          1\n",
       "Montreal         1\n",
       "san jose         1\n",
       "Name: Destination, dtype: int64"
      ]
     },
     "execution_count": 15,
     "metadata": {},
     "output_type": "execute_result"
    }
   ],
   "source": [
    "# Family Friendly places\n",
    "dffamily=(df[(df[\"nadults\"]==2) & ((df[\"num_children\"]==1) | (df[\"num_children\"]==2))])\n",
    "dffamily[\"Destination\"].value_counts()[:10]"
   ]
  },
  {
   "cell_type": "code",
   "execution_count": 16,
   "id": "dc6c9f32",
   "metadata": {},
   "outputs": [],
   "source": [
    "# According to the 2010 population census, the population of Porto Alegre is made up of Roman Catholics (63.85%); Protestants or evangelicals (11.65%); spiritists (7.03%); Umbanda and Candomblé (3.35%); the unreligious (10.38%) and people of other religions (3.64%).[67]\n",
    "# The Church of Jesus Christ of Latter-day Saints has a temple in Porto Alegre.[68] ( Wiki )\n",
    "\n",
    "#With its intimate atmosphere and age-friendly attractions, Burlington is truly one of the best places to visit in Vermont with kids. Burlington is a small cosmopolitan urban destination with scores of fun activities for the whole family. From the scenic Waterfront Park to pristine beaches, \n",
    "# the town oozes with family fun. https://www.bing.com/ck/a?!&&p=b7eda65990ac85e75cb05235857852d6c1e2d321397195ad9892e47af0bf14eaJmltdHM9MTY1MzMzNzY3NCZpZ3VpZD02OTMzYjMwMC0xNjM5LTRkNzgtYTQ0ZC1kYmZhYTJhNTU1Y2YmaW5zaWQ9NTQwNg&ptn=3&fclid=d346ecf9-dad6-11ec-ba76-ca5e0c10bd30&u=a1aHR0cHM6Ly9mYW1pbHlkZXN0aW5hdGlvbnNndWlkZS5jb20vYmVzdC1mYW1pbHktdmFjYXRpb25zLWluLXZlcm1vbnQvIzp-OnRleHQ9V2l0aCUyMGl0cyUyMGludGltYXRlJTIwYXRtb3NwaGVyZSUyMGFuZCUyMGFnZS1mcmllbmRseSUyMGF0dHJhY3Rpb25zJTJDJTIwQnVybGluZ3RvbixwcmlzdGluZSUyMGJlYWNoZXMlMkMlMjB0aGUlMjB0b3duJTIwb296ZXMlMjB3aXRoJTIwZmFtaWx5JTIwZnVuLg&ntb=1"
   ]
  },
  {
   "cell_type": "code",
   "execution_count": 17,
   "id": "dd4fa159",
   "metadata": {},
   "outputs": [
    {
     "data": {
      "text/plain": [
       "array(['Fukuoka', 'Las Vegas', 'New York', 'Pittsburgh', 'Hamburg',\n",
       "       'manaus', 'madrid', 'santa cruz', 'osaka'], dtype=object)"
      ]
     },
     "execution_count": 17,
     "metadata": {},
     "output_type": "execute_result"
    }
   ],
   "source": [
    "# School or college excursions\n",
    "\n",
    "\n",
    "df[\"num_children\"].max()\n",
    "k=df[(df[\"num_children\"]==40)]\n",
    "k[\"Destination\"].unique()"
   ]
  },
  {
   "cell_type": "code",
   "execution_count": 18,
   "id": "6b9bb32c",
   "metadata": {},
   "outputs": [
    {
     "data": {
      "text/plain": [
       "New York    4\n",
       "Hamburg     3\n",
       "madrid      3\n",
       "Fukuoka     2\n",
       "osaka       2\n",
       "Name: Destination, dtype: int64"
      ]
     },
     "execution_count": 18,
     "metadata": {},
     "output_type": "execute_result"
    }
   ],
   "source": [
    "k[\"Destination\"].value_counts()[:5]"
   ]
  },
  {
   "cell_type": "code",
   "execution_count": 19,
   "id": "85bb038f",
   "metadata": {},
   "outputs": [
    {
     "data": {
      "text/plain": [
       "<BarContainer object of 5 artists>"
      ]
     },
     "execution_count": 19,
     "metadata": {},
     "output_type": "execute_result"
    },
    {
     "data": {
      "image/png": "[encoded data removed]",
      "text/plain": [
       "<Figure size 432x288 with 1 Axes>"
      ]
     },
     "metadata": {
      "needs_background": "light"
     },
     "output_type": "display_data"
    }
   ],
   "source": [
    "l=k[\"Destination\"].value_counts()[:5].keys()\n",
    "plt.bar(l,k[\"Origin\"].value_counts()[:5].to_list())"
   ]
  },
  {
   "cell_type": "markdown",
   "id": "e85d1720",
   "metadata": {},
   "source": [
    "Therefore, we can deduce that New York, Hamburg,madrid, Fukuoka and Osaka are centres of education where students visit in large numbers every year."
   ]
  },
  {
   "cell_type": "markdown",
   "id": "3a611cba",
   "metadata": {},
   "source": [
    "FUKUOKA\n",
    "\n",
    "\n",
    "Nearly ten thousand international students attend universities in or \n",
    "near the Fukuoka prefecture each year.\n",
    "Nearly 200 international conferences are held each year in Fukuoka.( Source : https://en.wikipedia.org/wiki/Fukuoka#Tourism)\n",
    "                                                                    \n",
    "Of Japan’s eight major cities (excluding metropolitan Tokyo and Osaka), Fukuoka has the second-most university students, with six people in every 100 being students. Kyoto has the highest student ratio. \n",
    "Further, people between 15 and 29 years old make up 25.9% of Fukuoka’s population.   \n",
    "\n",
    "(https://survivejapan.weebly.com/fukuoka/10-interesting-facts-about-fukuoka#:~:text=Of%20Japan%E2%80%99s%20eight%20major%20cities,in%20every%20100%20being%20students.)                                                               "
   ]
  },
  {
   "cell_type": "markdown",
   "id": "cd560732",
   "metadata": {},
   "source": [
    "MADRID\n",
    "\n",
    "The Autonomous University of Madrid (UAM) is a Spanish public university located in Madrid and founded in 1968.\n",
    "Consistently ranked at the top of the rankings for its teaching and research excellence, the UAM is the Best University in Madrid and the second in Spain according to the QS Ranking 2022 and is among the 400 best universities in the world according to the Academic Ranking of World Universities (ARWU) or Shanghai Ranking 2021."
   ]
  },
  {
   "cell_type": "markdown",
   "id": "b3d2db42",
   "metadata": {},
   "source": [
    "Hamburg\n",
    "\n",
    "The UNESCO Institute for Lifelong Learning, one of the six educational institutes of UNESCO, is located in Hamburg. ( Source Wiki )"
   ]
  },
  {
   "cell_type": "code",
   "execution_count": 20,
   "id": "dc7a0a41",
   "metadata": {},
   "outputs": [
    {
     "data": {
      "text/plain": [
       "<BarContainer object of 5 artists>"
      ]
     },
     "execution_count": 20,
     "metadata": {},
     "output_type": "execute_result"
    },
    {
     "data": {
      "image/png": "[encoded data removed]",
      "text/plain": [
       "<Figure size 432x288 with 1 Axes>"
      ]
     },
     "metadata": {
      "needs_background": "light"
     },
     "output_type": "display_data"
    }
   ],
   "source": [
    "l=k[\"Origin\"].value_counts()[:5].keys()\n",
    "plt.bar(l,k[\"Origin\"].value_counts()[:5].to_list())"
   ]
  },
  {
   "cell_type": "markdown",
   "id": "fbba6b6d",
   "metadata": {},
   "source": [
    "### So we find that there is more educational and career awareness in these 5 cities ( Barcelona , Baltimore Belem,  Rio de Jjaneiro Tokyo ) as there is a huge influx of students from these cities\n",
    "### to the 5 cities of educational excellence found above as New York, Hamburg,madrid, Fukuoka and Osaka."
   ]
  },
  {
   "cell_type": "markdown",
   "id": "13f7ed1b",
   "metadata": {},
   "source": [
    "# Even we found that Madrid is closer to Barcelona, so this claim holds true."
   ]
  },
  {
   "cell_type": "code",
   "execution_count": 21,
   "id": "c9f8b87f",
   "metadata": {},
   "outputs": [
    {
     "data": {
      "text/plain": [
       "8    832\n",
       "9    599\n",
       "Name: month, dtype: int64"
      ]
     },
     "execution_count": 21,
     "metadata": {},
     "output_type": "execute_result"
    }
   ],
   "source": [
    "# Most favourable time of the year for travel ( weather, events , tourist friendly atmosphere( clear skies.....))\n",
    "\n",
    "df[\"month\"].value_counts()\n",
    "\n",
    "# August and September.\n",
    "# More preference is August."
   ]
  },
  {
   "cell_type": "code",
   "execution_count": 22,
   "id": "a0441fd9",
   "metadata": {},
   "outputs": [
    {
     "data": {
      "text/plain": [
       "tofino       398\n",
       "Mannheim      73\n",
       "Tokyo         16\n",
       "vancouver     15\n",
       "Nagoya        15\n",
       "Name: Origin, dtype: int64"
      ]
     },
     "execution_count": 22,
     "metadata": {},
     "output_type": "execute_result"
    }
   ],
   "source": [
    "f=df[(df[\"month\"]==8)][[\"Origin\",\"Destination\"]]\n",
    "f[\"Origin\"].value_counts()[:5]\n"
   ]
  },
  {
   "cell_type": "code",
   "execution_count": 23,
   "id": "4e096a14",
   "metadata": {},
   "outputs": [
    {
     "data": {
      "text/plain": [
       "sao paulo       401\n",
       "Toronto          29\n",
       "brasilia         35\n",
       "rome             17\n",
       "porto alegre     14\n",
       "dtype: int64"
      ]
     },
     "execution_count": 23,
     "metadata": {},
     "output_type": "execute_result"
    }
   ],
   "source": [
    "d=(f[\"Destination\"].value_counts().to_dict())\n",
    "d.update({\"brasilia\":35})\n",
    "del d[\"Brasilia\"]\n",
    "\n",
    "pd.Series(d)[:5]\n"
   ]
  },
  {
   "cell_type": "code",
   "execution_count": 24,
   "id": "805d6c33",
   "metadata": {},
   "outputs": [
    {
     "data": {
      "text/html": [
       "<div>\n",
       "<style scoped>\n",
       "    .dataframe tbody tr th:only-of-type {\n",
       "        vertical-align: middle;\n",
       "    }\n",
       "\n",
       "    .dataframe tbody tr th {\n",
       "        vertical-align: top;\n",
       "    }\n",
       "\n",
       "    .dataframe thead th {\n",
       "        text-align: right;\n",
       "    }\n",
       "</style>\n",
       "<table border=\"1\" class=\"dataframe\">\n",
       "  <thead>\n",
       "    <tr style=\"text-align: right;\">\n",
       "      <th></th>\n",
       "      <th>Origin</th>\n",
       "      <th>Destination</th>\n",
       "    </tr>\n",
       "  </thead>\n",
       "  <tbody>\n",
       "    <tr>\n",
       "      <th>519</th>\n",
       "      <td>Toronto</td>\n",
       "      <td>Frankfurt</td>\n",
       "    </tr>\n",
       "    <tr>\n",
       "      <th>521</th>\n",
       "      <td>Toronto</td>\n",
       "      <td>Mexico City</td>\n",
       "    </tr>\n",
       "    <tr>\n",
       "      <th>523</th>\n",
       "      <td>Toronto</td>\n",
       "      <td>Punta Cana</td>\n",
       "    </tr>\n",
       "    <tr>\n",
       "      <th>524</th>\n",
       "      <td>Toronto</td>\n",
       "      <td>Rosario</td>\n",
       "    </tr>\n",
       "    <tr>\n",
       "      <th>1403</th>\n",
       "      <td>vancouver</td>\n",
       "      <td>Goiania</td>\n",
       "    </tr>\n",
       "    <tr>\n",
       "      <th>1404</th>\n",
       "      <td>vancouver</td>\n",
       "      <td>Manaus</td>\n",
       "    </tr>\n",
       "    <tr>\n",
       "      <th>1405</th>\n",
       "      <td>vancouver</td>\n",
       "      <td>Santso</td>\n",
       "    </tr>\n",
       "    <tr>\n",
       "      <th>1406</th>\n",
       "      <td>vancouver</td>\n",
       "      <td>Santso</td>\n",
       "    </tr>\n",
       "    <tr>\n",
       "      <th>1408</th>\n",
       "      <td>vancouver</td>\n",
       "      <td>naples</td>\n",
       "    </tr>\n",
       "    <tr>\n",
       "      <th>1409</th>\n",
       "      <td>vancouver</td>\n",
       "      <td>naples</td>\n",
       "    </tr>\n",
       "    <tr>\n",
       "      <th>1410</th>\n",
       "      <td>vancouver</td>\n",
       "      <td>naples</td>\n",
       "    </tr>\n",
       "    <tr>\n",
       "      <th>1411</th>\n",
       "      <td>vancouver</td>\n",
       "      <td>punta cana</td>\n",
       "    </tr>\n",
       "    <tr>\n",
       "      <th>1412</th>\n",
       "      <td>vancouver</td>\n",
       "      <td>punta cana</td>\n",
       "    </tr>\n",
       "    <tr>\n",
       "      <th>1413</th>\n",
       "      <td>vancouver</td>\n",
       "      <td>punta cana</td>\n",
       "    </tr>\n",
       "    <tr>\n",
       "      <th>1414</th>\n",
       "      <td>vancouver</td>\n",
       "      <td>recife</td>\n",
       "    </tr>\n",
       "    <tr>\n",
       "      <th>1415</th>\n",
       "      <td>vancouver</td>\n",
       "      <td>recife</td>\n",
       "    </tr>\n",
       "    <tr>\n",
       "      <th>1416</th>\n",
       "      <td>vancouver</td>\n",
       "      <td>recife</td>\n",
       "    </tr>\n",
       "    <tr>\n",
       "      <th>1417</th>\n",
       "      <td>vancouver</td>\n",
       "      <td>recife</td>\n",
       "    </tr>\n",
       "    <tr>\n",
       "      <th>1418</th>\n",
       "      <td>vancouver</td>\n",
       "      <td>santos</td>\n",
       "    </tr>\n",
       "  </tbody>\n",
       "</table>\n",
       "</div>"
      ],
      "text/plain": [
       "         Origin  Destination\n",
       "519     Toronto    Frankfurt\n",
       "521     Toronto  Mexico City\n",
       "523     Toronto   Punta Cana\n",
       "524     Toronto      Rosario\n",
       "1403  vancouver      Goiania\n",
       "1404  vancouver       Manaus\n",
       "1405  vancouver       Santso\n",
       "1406  vancouver       Santso\n",
       "1408  vancouver       naples\n",
       "1409  vancouver       naples\n",
       "1410  vancouver       naples\n",
       "1411  vancouver   punta cana\n",
       "1412  vancouver   punta cana\n",
       "1413  vancouver   punta cana\n",
       "1414  vancouver       recife\n",
       "1415  vancouver       recife\n",
       "1416  vancouver       recife\n",
       "1417  vancouver       recife\n",
       "1418  vancouver       santos"
      ]
     },
     "execution_count": 24,
     "metadata": {},
     "output_type": "execute_result"
    }
   ],
   "source": [
    "    f[(f[\"Origin\"]==\"Toronto\") | (f[\"Origin\"]==\"vancouver\")]"
   ]
  },
  {
   "cell_type": "code",
   "execution_count": 25,
   "id": "dc7faea1",
   "metadata": {},
   "outputs": [
    {
     "data": {
      "text/html": [
       "<div>\n",
       "<style scoped>\n",
       "    .dataframe tbody tr th:only-of-type {\n",
       "        vertical-align: middle;\n",
       "    }\n",
       "\n",
       "    .dataframe tbody tr th {\n",
       "        vertical-align: top;\n",
       "    }\n",
       "\n",
       "    .dataframe thead th {\n",
       "        text-align: right;\n",
       "    }\n",
       "</style>\n",
       "<table border=\"1\" class=\"dataframe\">\n",
       "  <thead>\n",
       "    <tr style=\"text-align: right;\">\n",
       "      <th></th>\n",
       "      <th>Origin</th>\n",
       "      <th>Destination</th>\n",
       "    </tr>\n",
       "  </thead>\n",
       "  <tbody>\n",
       "    <tr>\n",
       "      <th>22</th>\n",
       "      <td>Beijing</td>\n",
       "      <td>Toronto</td>\n",
       "    </tr>\n",
       "    <tr>\n",
       "      <th>247</th>\n",
       "      <td>Mannheim</td>\n",
       "      <td>Toronto</td>\n",
       "    </tr>\n",
       "    <tr>\n",
       "      <th>248</th>\n",
       "      <td>Mannheim</td>\n",
       "      <td>Toronto</td>\n",
       "    </tr>\n",
       "    <tr>\n",
       "      <th>249</th>\n",
       "      <td>Mannheim</td>\n",
       "      <td>Toronto</td>\n",
       "    </tr>\n",
       "    <tr>\n",
       "      <th>250</th>\n",
       "      <td>Mannheim</td>\n",
       "      <td>Toronto</td>\n",
       "    </tr>\n",
       "    <tr>\n",
       "      <th>251</th>\n",
       "      <td>Mannheim</td>\n",
       "      <td>Toronto</td>\n",
       "    </tr>\n",
       "    <tr>\n",
       "      <th>252</th>\n",
       "      <td>Mannheim</td>\n",
       "      <td>Toronto</td>\n",
       "    </tr>\n",
       "    <tr>\n",
       "      <th>253</th>\n",
       "      <td>Mannheim</td>\n",
       "      <td>Toronto</td>\n",
       "    </tr>\n",
       "    <tr>\n",
       "      <th>254</th>\n",
       "      <td>Mannheim</td>\n",
       "      <td>Toronto</td>\n",
       "    </tr>\n",
       "    <tr>\n",
       "      <th>255</th>\n",
       "      <td>Mannheim</td>\n",
       "      <td>Toronto</td>\n",
       "    </tr>\n",
       "    <tr>\n",
       "      <th>256</th>\n",
       "      <td>Mannheim</td>\n",
       "      <td>Toronto</td>\n",
       "    </tr>\n",
       "    <tr>\n",
       "      <th>257</th>\n",
       "      <td>Mannheim</td>\n",
       "      <td>Toronto</td>\n",
       "    </tr>\n",
       "    <tr>\n",
       "      <th>258</th>\n",
       "      <td>Mannheim</td>\n",
       "      <td>Toronto</td>\n",
       "    </tr>\n",
       "    <tr>\n",
       "      <th>259</th>\n",
       "      <td>Mannheim</td>\n",
       "      <td>Toronto</td>\n",
       "    </tr>\n",
       "    <tr>\n",
       "      <th>260</th>\n",
       "      <td>Mannheim</td>\n",
       "      <td>Toronto</td>\n",
       "    </tr>\n",
       "    <tr>\n",
       "      <th>261</th>\n",
       "      <td>Mannheim</td>\n",
       "      <td>Toronto</td>\n",
       "    </tr>\n",
       "    <tr>\n",
       "      <th>262</th>\n",
       "      <td>Mannheim</td>\n",
       "      <td>Toronto</td>\n",
       "    </tr>\n",
       "    <tr>\n",
       "      <th>263</th>\n",
       "      <td>Mannheim</td>\n",
       "      <td>Toronto</td>\n",
       "    </tr>\n",
       "    <tr>\n",
       "      <th>264</th>\n",
       "      <td>Mannheim</td>\n",
       "      <td>Toronto</td>\n",
       "    </tr>\n",
       "    <tr>\n",
       "      <th>265</th>\n",
       "      <td>Mannheim</td>\n",
       "      <td>Toronto</td>\n",
       "    </tr>\n",
       "    <tr>\n",
       "      <th>266</th>\n",
       "      <td>Mannheim</td>\n",
       "      <td>Toronto</td>\n",
       "    </tr>\n",
       "    <tr>\n",
       "      <th>267</th>\n",
       "      <td>Mannheim</td>\n",
       "      <td>Toronto</td>\n",
       "    </tr>\n",
       "    <tr>\n",
       "      <th>268</th>\n",
       "      <td>Mannheim</td>\n",
       "      <td>Toronto</td>\n",
       "    </tr>\n",
       "    <tr>\n",
       "      <th>269</th>\n",
       "      <td>Mannheim</td>\n",
       "      <td>Toronto</td>\n",
       "    </tr>\n",
       "    <tr>\n",
       "      <th>270</th>\n",
       "      <td>Mannheim</td>\n",
       "      <td>Toronto</td>\n",
       "    </tr>\n",
       "    <tr>\n",
       "      <th>271</th>\n",
       "      <td>Mannheim</td>\n",
       "      <td>Toronto</td>\n",
       "    </tr>\n",
       "    <tr>\n",
       "      <th>272</th>\n",
       "      <td>Mannheim</td>\n",
       "      <td>Toronto</td>\n",
       "    </tr>\n",
       "    <tr>\n",
       "      <th>273</th>\n",
       "      <td>Mannheim</td>\n",
       "      <td>Toronto</td>\n",
       "    </tr>\n",
       "    <tr>\n",
       "      <th>274</th>\n",
       "      <td>Mannheim</td>\n",
       "      <td>Toronto</td>\n",
       "    </tr>\n",
       "  </tbody>\n",
       "</table>\n",
       "</div>"
      ],
      "text/plain": [
       "       Origin Destination\n",
       "22    Beijing     Toronto\n",
       "247  Mannheim     Toronto\n",
       "248  Mannheim     Toronto\n",
       "249  Mannheim     Toronto\n",
       "250  Mannheim     Toronto\n",
       "251  Mannheim     Toronto\n",
       "252  Mannheim     Toronto\n",
       "253  Mannheim     Toronto\n",
       "254  Mannheim     Toronto\n",
       "255  Mannheim     Toronto\n",
       "256  Mannheim     Toronto\n",
       "257  Mannheim     Toronto\n",
       "258  Mannheim     Toronto\n",
       "259  Mannheim     Toronto\n",
       "260  Mannheim     Toronto\n",
       "261  Mannheim     Toronto\n",
       "262  Mannheim     Toronto\n",
       "263  Mannheim     Toronto\n",
       "264  Mannheim     Toronto\n",
       "265  Mannheim     Toronto\n",
       "266  Mannheim     Toronto\n",
       "267  Mannheim     Toronto\n",
       "268  Mannheim     Toronto\n",
       "269  Mannheim     Toronto\n",
       "270  Mannheim     Toronto\n",
       "271  Mannheim     Toronto\n",
       "272  Mannheim     Toronto\n",
       "273  Mannheim     Toronto\n",
       "274  Mannheim     Toronto"
      ]
     },
     "execution_count": 25,
     "metadata": {},
     "output_type": "execute_result"
    }
   ],
   "source": [
    "f[(f[\"Destination\"]==\"Toronto\") | (f[\"Destination\"]==\"vancouver\")]"
   ]
  },
  {
   "cell_type": "markdown",
   "id": "94541359",
   "metadata": {},
   "source": [
    "Therefore, most of the inter-continental tours are in the month of August. ( Mostly from Europe and Japan to Americas( Canada and Latin ) \n",
    "It may be because August is the warmest month in Europe                                                                       "
   ]
  },
  {
   "cell_type": "code",
   "execution_count": 26,
   "id": "0689234d",
   "metadata": {},
   "outputs": [
    {
     "data": {
      "text/plain": [
       "(array([75., 10.,  6.,  0.,  3.]),\n",
       " array([10000, 20000, 30000, 40000, 50000, 60000]),\n",
       " <BarContainer object of 5 artists>)"
      ]
     },
     "execution_count": 26,
     "metadata": {},
     "output_type": "execute_result"
    },
    {
     "data": {
      "image/png": "[encoded data removed]",
      "text/plain": [
       "<Figure size 432x288 with 1 Axes>"
      ]
     },
     "metadata": {
      "needs_background": "light"
     },
     "output_type": "display_data"
    }
   ],
   "source": [
    "# Most favourable budget.( Average value ) to segregate luxury tours and affordable tours\n",
    "# Seperate out budget as luxury and affordable, then identify those cities which have most luxury tours ( posh areas (Origin),Main Tourism( Destination )).\n",
    "\n",
    "plt.hist(df[\"Budget\"],bins=[10000,20000,30000,40000,50000,60000])"
   ]
  },
  {
   "cell_type": "code",
   "execution_count": 27,
   "id": "4715f021",
   "metadata": {},
   "outputs": [
    {
     "data": {
      "text/plain": [
       "5724     315\n",
       "6000     191\n",
       "4500     128\n",
       "5000      71\n",
       "3000      53\n",
       "5800      50\n",
       "6100      47\n",
       "3800      38\n",
       "1200      28\n",
       "7400      26\n",
       "2300      26\n",
       "3700      24\n",
       "9700      24\n",
       "5600      22\n",
       "18600     20\n",
       "2700      18\n",
       "3600      17\n",
       "2500      16\n",
       "400       15\n",
       "2000      14\n",
       "Name: Budget, dtype: int64"
      ]
     },
     "execution_count": 27,
     "metadata": {},
     "output_type": "execute_result"
    }
   ],
   "source": [
    "df[\"Budget\"].value_counts().head(20)"
   ]
  },
  {
   "cell_type": "markdown",
   "id": "653c5dee",
   "metadata": {},
   "source": [
    "# Most favourable Budget is in the range \"1000-10000\" with 5724 ( Approx. 6000 ) being the average."
   ]
  },
  {
   "cell_type": "code",
   "execution_count": 28,
   "id": "58fd9ce0",
   "metadata": {},
   "outputs": [
    {
     "name": "stdout",
     "output_type": "stream",
     "text": [
      "[0, 100, 130, 200, 400, 500, 1000, 1100, 1200, 1400, 1500, 1700, 1800, 1900, 2000, 2100, 2200, 2300, 2400, 2500, 2600, 2700, 2800, 2900, 3000, 3100, 3200, 3300, 3400, 3500, 3600, 3700, 3800, 3900, 4000, 4100, 4200, 4300, 4400, 4500, 4600, 4800, 4900, 5000, 5100, 5200, 5400, 5500, 5600, 5724, 5800, 6000, 6100, 6200, 6400, 6700, 6800, 7200, 7300, 7400, 7500, 7600, 8600, 9100, 9700, 10000, 11300, 12400, 12600, 12800, 13200, 13700, 13800, 14000, 14900, 15000, 15900, 16400, 16600, 17100, 18600, 19500, 19900, 22400, 23300, 23700, 29400, 30300, 31500, 34300, 36300, 37800, 54700]\n"
     ]
    }
   ],
   "source": [
    "a=df[\"Budget\"].value_counts().keys().to_list()\n",
    "a.sort()\n",
    "print(a)"
   ]
  },
  {
   "cell_type": "code",
   "execution_count": 29,
   "id": "e822a2ca",
   "metadata": {},
   "outputs": [
    {
     "data": {
      "text/plain": [
       "array(['Alexandria', 'Baltimore', 'Barcelona', 'Beijing', 'Belem',\n",
       "       'Belo Horizonte', 'Berlin', 'Brasilia', 'Buenos Aires',\n",
       "       'Burlington', 'Busan', 'Cairo', 'Calgary', 'Campinas', 'Cleveland',\n",
       "       'Columbus', 'Curitiba', 'Fort Lauderdale', 'Fortaleza', 'Fukuoka',\n",
       "       'Guadalajara', 'Houston', 'Jerusalem', 'Kingston', 'Las Vegas',\n",
       "       'Leon', 'Lima', 'Long Beach', 'Manaus', 'Mannheim', 'Melbourne',\n",
       "       'Minneapolis', 'Monterrey', 'Nagoya', 'North Vancouver', 'Osaka',\n",
       "       'Phoenix', 'Pittsburgh', 'Porto', 'Puebla', 'Punta Cana',\n",
       "       'Queenstown', 'Recife', 'Resife', 'Rio de Janeiro', 'Rosario',\n",
       "       'San Antonio', 'San Juan', 'Santa Cruz', 'Santo Domingo', 'Santos',\n",
       "       'Sapporo', 'Seattle', 'St. Petersburg', 'Stuttgart', 'Sydney',\n",
       "       'Tampa', 'Tel Aviv', 'Termina', 'Tijuama', 'Tijuana', 'Tofino',\n",
       "       'Tokyo', 'Toluca', 'Toronto', 'Ulsan', 'Vancouver', 'alexandria',\n",
       "       'baltimore', 'barcelona', 'belo horizonte', 'berlin', 'brasilia',\n",
       "       'burlington', 'calgary', 'cancun', 'denver', 'essen',\n",
       "       'fort lauderdale', 'jerusalem', 'kingston', 'kobe', 'la paz',\n",
       "       'lima', 'london', 'madrid', 'melbourne', 'mexico city',\n",
       "       'minneapolis', 'monterrey', 'montreal', 'mos eisley', 'new york',\n",
       "       'north vancouver', 'paris', 'philadelphia', 'phoenix',\n",
       "       'pittsburgh', 'porto alegre', 'punta cana', 'recife', 'rome',\n",
       "       'salvador', 'san francisco', 'santiago', 'santo domingo', 'sendai',\n",
       "       'st. louis', 'tampa', 'tel aviv', 'tijuana', 'tofino', 'toronto',\n",
       "       'valencia', 'vancouver', 'vitoria', 'washington'], dtype=object)"
      ]
     },
     "execution_count": 29,
     "metadata": {},
     "output_type": "execute_result"
    }
   ],
   "source": [
    "tourism=df[(df[\"Budget\"]>=1000) & (df[\"Budget\"]<=10000)]\n",
    "tourism[\"Origin\"].unique()\n"
   ]
  },
  {
   "cell_type": "markdown",
   "id": "552d26bb",
   "metadata": {},
   "source": [
    "#  Most of the tourists are from these Cities, so tourism culture is very popular in these places."
   ]
  },
  {
   "cell_type": "code",
   "execution_count": 30,
   "id": "b54aa5c2",
   "metadata": {},
   "outputs": [
    {
     "data": {
      "text/plain": [
       "['tofino',\n",
       " 'Mannheim',\n",
       " 'punta cana',\n",
       " 'Santa Cruz',\n",
       " 'Houston',\n",
       " 'tijuana',\n",
       " 'kobe',\n",
       " 'sendai',\n",
       " 'tampa',\n",
       " 'jerusalem']"
      ]
     },
     "execution_count": 30,
     "metadata": {},
     "output_type": "execute_result"
    }
   ],
   "source": [
    "list(tourism[\"Origin\"].value_counts().keys())[:10]"
   ]
  },
  {
   "cell_type": "code",
   "execution_count": 31,
   "id": "1a5412de",
   "metadata": {},
   "outputs": [
    {
     "data": {
      "text/plain": [
       "array(['Beijing', 'Belem', 'Belo Horizonte', 'Brasilia', 'Buenos Aires',\n",
       "       'Columbus', 'Kingston', 'Kochi', 'Los Angeles', 'Milan',\n",
       "       'Montreal', 'Punta Cana', 'Queenstown', 'Recife', 'Rio de Janeiro',\n",
       "       'Rome', 'Rosario', 'Santa Cruz', 'Santo Domingo', 'Sapporo',\n",
       "       'Sydney', 'Tokyo', 'alexandria', 'baltimore', 'burlington',\n",
       "       'calgary', 'chicago bay', 'denver', 'jerusalem', 'kingston',\n",
       "       'kobe', 'london', 'new york', 'santiago', 'st. petersburg',\n",
       "       'tampa', 'tijuana', 'toronto', 'vancouver'], dtype=object)"
      ]
     },
     "execution_count": 31,
     "metadata": {},
     "output_type": "execute_result"
    }
   ],
   "source": [
    "luxury=df[(df[\"Budget\"]>=10000)]\n",
    "luxury[\"Origin\"].unique()\n",
    "\n",
    "# Tourists from these places prefer luxury tours with budget > 10000."
   ]
  },
  {
   "cell_type": "code",
   "execution_count": 32,
   "id": "4024c29b",
   "metadata": {},
   "outputs": [
    {
     "data": {
      "text/plain": [
       "[<matplotlib.lines.Line2D at 0x1ff9da17d30>]"
      ]
     },
     "execution_count": 32,
     "metadata": {},
     "output_type": "execute_result"
    },
    {
     "data": {
      "image/png": "[encoded data removed]",
      "text/plain": [
       "<Figure size 864x360 with 1 Axes>"
      ]
     },
     "metadata": {
      "needs_background": "light"
     },
     "output_type": "display_data"
    }
   ],
   "source": [
    "plt.figure(figsize=(12,5))\n",
    "plt.plot(luxury[\"Origin\"].value_counts().keys()[:10],luxury[\"Origin\"].value_counts().to_list()[:10])"
   ]
  },
  {
   "cell_type": "markdown",
   "id": "f88f7a90",
   "metadata": {},
   "source": [
    "# These cities are the most posh cities with rich economy, as evident from the frequent tours organized from these cities ( particularly KOBE, KINGSTON BELO HORIZONTE, RECIFE )"
   ]
  },
  {
   "cell_type": "code",
   "execution_count": 33,
   "id": "f1cf46d0",
   "metadata": {},
   "outputs": [],
   "source": [
    "### The Port of Kobe is both an important port and manufacturing center.As of 2004, the city's total real GDP was ¥6.3 trillion, which amounts to thirty-four percent of the GDP for Hyōgo Prefecture and \n",
    "### approximately eight percent for the whole Kansai region.\n",
    "\n",
    "### According to Statistics Canada, the tourism industry in Kingston represents a vital part of the city's economy. \n",
    "### In 2004, over 3,500 jobs were contributed to Kingston's economy due to the tourism industry\n",
    "\n",
    "\n",
    "### Belo Horizonte receives large numbers of visitors, as it is in the Brazilian main economic axis, exerting influence even on other states. Multinational and Brazilian companies, such as Google and Oi, maintain offices in the city. The service sector plays a very important role in the economy of Belo Horizonte, being responsible for 85% of the city's Gross Domestic Product (GDP), \n",
    "### with other industry making up most of the remaining 15%. Organized FIFA world cup in 2010.\n",
    "\n",
    "# Source Wikipedia"
   ]
  },
  {
   "cell_type": "code",
   "execution_count": 34,
   "id": "c95ecdf7",
   "metadata": {},
   "outputs": [
    {
     "data": {
      "text/plain": [
       "[<matplotlib.lines.Line2D at 0x1ff9de50700>]"
      ]
     },
     "execution_count": 34,
     "metadata": {},
     "output_type": "execute_result"
    },
    {
     "data": {
      "image/png": "[encoded data removed]",
      "text/plain": [
       "<Figure size 864x360 with 1 Axes>"
      ]
     },
     "metadata": {
      "needs_background": "light"
     },
     "output_type": "display_data"
    }
   ],
   "source": [
    "plt.figure(figsize=(12,5))\n",
    "plt.plot(tourism[\"Destination\"].value_counts().keys()[:10],tourism[\"Destination\"].value_counts().to_list()[:10])"
   ]
  },
  {
   "cell_type": "markdown",
   "id": "c2c476fc",
   "metadata": {},
   "source": [
    "# So we conclude that cities like \"Sao Paulo , Punta Cana , Denver , Toronto , los angeles\" are famous tourist places. Here, tourism is an important industry."
   ]
  },
  {
   "cell_type": "code",
   "execution_count": 35,
   "id": "1ae56df4",
   "metadata": {},
   "outputs": [
    {
     "data": {
      "text/html": [
       "<div>\n",
       "<style scoped>\n",
       "    .dataframe tbody tr th:only-of-type {\n",
       "        vertical-align: middle;\n",
       "    }\n",
       "\n",
       "    .dataframe tbody tr th {\n",
       "        vertical-align: top;\n",
       "    }\n",
       "\n",
       "    .dataframe thead th {\n",
       "        text-align: right;\n",
       "    }\n",
       "</style>\n",
       "<table border=\"1\" class=\"dataframe\">\n",
       "  <thead>\n",
       "    <tr style=\"text-align: right;\">\n",
       "      <th></th>\n",
       "      <th>ID</th>\n",
       "      <th>Origin</th>\n",
       "      <th>Destination</th>\n",
       "      <th>month</th>\n",
       "      <th>day</th>\n",
       "      <th>nadults</th>\n",
       "      <th>Budget</th>\n",
       "      <th>price_min</th>\n",
       "      <th>timestamp</th>\n",
       "      <th>num_children</th>\n",
       "      <th>label</th>\n",
       "    </tr>\n",
       "  </thead>\n",
       "  <tbody>\n",
       "    <tr>\n",
       "      <th>162</th>\n",
       "      <td>U22K1SX9N</td>\n",
       "      <td>Kabul</td>\n",
       "      <td>Recife</td>\n",
       "      <td>9</td>\n",
       "      <td>15</td>\n",
       "      <td>8</td>\n",
       "      <td>400</td>\n",
       "      <td>6000</td>\n",
       "      <td>1472237452</td>\n",
       "      <td>2</td>\n",
       "      <td>75</td>\n",
       "    </tr>\n",
       "    <tr>\n",
       "      <th>163</th>\n",
       "      <td>U22K1SX9N</td>\n",
       "      <td>Kabul</td>\n",
       "      <td>Recife</td>\n",
       "      <td>9</td>\n",
       "      <td>15</td>\n",
       "      <td>8</td>\n",
       "      <td>400</td>\n",
       "      <td>7000</td>\n",
       "      <td>1472237470</td>\n",
       "      <td>2</td>\n",
       "      <td>75</td>\n",
       "    </tr>\n",
       "    <tr>\n",
       "      <th>164</th>\n",
       "      <td>U22K1SX9N</td>\n",
       "      <td>Kabul</td>\n",
       "      <td>santo domingo</td>\n",
       "      <td>9</td>\n",
       "      <td>15</td>\n",
       "      <td>8</td>\n",
       "      <td>400</td>\n",
       "      <td>8500</td>\n",
       "      <td>1472237746</td>\n",
       "      <td>1</td>\n",
       "      <td>76</td>\n",
       "    </tr>\n",
       "    <tr>\n",
       "      <th>520</th>\n",
       "      <td>U2709166N</td>\n",
       "      <td>Toronto</td>\n",
       "      <td>La Paz</td>\n",
       "      <td>9</td>\n",
       "      <td>12</td>\n",
       "      <td>2</td>\n",
       "      <td>400</td>\n",
       "      <td>2000</td>\n",
       "      <td>1473439983</td>\n",
       "      <td>4</td>\n",
       "      <td>196</td>\n",
       "    </tr>\n",
       "    <tr>\n",
       "      <th>536</th>\n",
       "      <td>U2709166N</td>\n",
       "      <td>Ulsan</td>\n",
       "      <td>San Francisco</td>\n",
       "      <td>9</td>\n",
       "      <td>20</td>\n",
       "      <td>8</td>\n",
       "      <td>400</td>\n",
       "      <td>5000</td>\n",
       "      <td>1473267175</td>\n",
       "      <td>1</td>\n",
       "      <td>206</td>\n",
       "    </tr>\n",
       "    <tr>\n",
       "      <th>629</th>\n",
       "      <td>U22K1SX9N</td>\n",
       "      <td>jerusalem</td>\n",
       "      <td>birmingham</td>\n",
       "      <td>9</td>\n",
       "      <td>13</td>\n",
       "      <td>3</td>\n",
       "      <td>400</td>\n",
       "      <td>5000</td>\n",
       "      <td>1472240491</td>\n",
       "      <td>2</td>\n",
       "      <td>255</td>\n",
       "    </tr>\n",
       "  </tbody>\n",
       "</table>\n",
       "</div>"
      ],
      "text/plain": [
       "            ID     Origin    Destination  month  day  nadults  Budget  \\\n",
       "162  U22K1SX9N      Kabul         Recife      9   15        8     400   \n",
       "163  U22K1SX9N      Kabul         Recife      9   15        8     400   \n",
       "164  U22K1SX9N      Kabul  santo domingo      9   15        8     400   \n",
       "520  U2709166N    Toronto         La Paz      9   12        2     400   \n",
       "536  U2709166N      Ulsan  San Francisco      9   20        8     400   \n",
       "629  U22K1SX9N  jerusalem     birmingham      9   13        3     400   \n",
       "\n",
       "     price_min   timestamp  num_children  label  \n",
       "162       6000  1472237452             2     75  \n",
       "163       7000  1472237470             2     75  \n",
       "164       8500  1472237746             1     76  \n",
       "520       2000  1473439983             4    196  \n",
       "536       5000  1473267175             1    206  \n",
       "629       5000  1472240491             2    255  "
      ]
     },
     "execution_count": 35,
     "metadata": {},
     "output_type": "execute_result"
    }
   ],
   "source": [
    "low=df[(df[\"Budget\"]<1000)]\n",
    "low[(low[\"nadults\"]>1) & (low[\"num_children\"]>=1)]"
   ]
  },
  {
   "cell_type": "markdown",
   "id": "269745c5",
   "metadata": {},
   "source": [
    "Cities like Recife, santo domingo, La Paz,... facilitate cheap travel."
   ]
  },
  {
   "cell_type": "code",
   "execution_count": 36,
   "id": "8b23b8a8",
   "metadata": {},
   "outputs": [],
   "source": [
    "dt=pd.DataFrame(columns=[\"Origin\",\"Destination\",\"Average Budget\"])\n",
    "for i in df[\"label\"]:\n",
    "    o=(df[df[\"label\"]==i])[\"Origin\"]\n",
    "    o1=o.to_list()\n",
    "    dt.loc[i,\"Origin\"]=o1[0]\n",
    "    d=(df[df[\"label\"]==i])[\"Destination\"]\n",
    "    d1=d.to_list()\n",
    "    dt.loc[i,[\"Destination\"]]=d1[0]\n",
    "    avg=(df[df[\"label\"]==i])[\"Budget\"]\n",
    "    a1=avg.to_list()\n",
    "    dt.loc[i,[\"Average Budget\"]]=(sum(a1)/len(a1))"
   ]
  },
  {
   "cell_type": "code",
   "execution_count": 37,
   "id": "e97ada55",
   "metadata": {},
   "outputs": [
    {
     "data": {
      "text/html": [
       "<div>\n",
       "<style scoped>\n",
       "    .dataframe tbody tr th:only-of-type {\n",
       "        vertical-align: middle;\n",
       "    }\n",
       "\n",
       "    .dataframe tbody tr th {\n",
       "        vertical-align: top;\n",
       "    }\n",
       "\n",
       "    .dataframe thead th {\n",
       "        text-align: right;\n",
       "    }\n",
       "</style>\n",
       "<table border=\"1\" class=\"dataframe\">\n",
       "  <thead>\n",
       "    <tr style=\"text-align: right;\">\n",
       "      <th></th>\n",
       "      <th>Origin</th>\n",
       "      <th>Destination</th>\n",
       "      <th>Average Budget</th>\n",
       "    </tr>\n",
       "  </thead>\n",
       "  <tbody>\n",
       "    <tr>\n",
       "      <th>1</th>\n",
       "      <td>Alexandria</td>\n",
       "      <td>Hiroshima</td>\n",
       "      <td>3900.0</td>\n",
       "    </tr>\n",
       "    <tr>\n",
       "      <th>2</th>\n",
       "      <td>Alexandria</td>\n",
       "      <td>Phoenix</td>\n",
       "      <td>3133.333333</td>\n",
       "    </tr>\n",
       "    <tr>\n",
       "      <th>3</th>\n",
       "      <td>Baltimore</td>\n",
       "      <td>Fukuoka</td>\n",
       "      <td>3900.0</td>\n",
       "    </tr>\n",
       "    <tr>\n",
       "      <th>4</th>\n",
       "      <td>Baltimore</td>\n",
       "      <td>Las Vegas</td>\n",
       "      <td>3900.0</td>\n",
       "    </tr>\n",
       "    <tr>\n",
       "      <th>5</th>\n",
       "      <td>Barcelona</td>\n",
       "      <td>Curitiba</td>\n",
       "      <td>3700.0</td>\n",
       "    </tr>\n",
       "    <tr>\n",
       "      <th>...</th>\n",
       "      <td>...</td>\n",
       "      <td>...</td>\n",
       "      <td>...</td>\n",
       "    </tr>\n",
       "    <tr>\n",
       "      <th>375</th>\n",
       "      <td>vitoria</td>\n",
       "      <td>porto alegre</td>\n",
       "      <td>5800.0</td>\n",
       "    </tr>\n",
       "    <tr>\n",
       "      <th>376</th>\n",
       "      <td>vitoria</td>\n",
       "      <td>santo domingo</td>\n",
       "      <td>3000.0</td>\n",
       "    </tr>\n",
       "    <tr>\n",
       "      <th>377</th>\n",
       "      <td>washington</td>\n",
       "      <td>kingston</td>\n",
       "      <td>1700.0</td>\n",
       "    </tr>\n",
       "    <tr>\n",
       "      <th>378</th>\n",
       "      <td>washington</td>\n",
       "      <td>rome</td>\n",
       "      <td>7500.0</td>\n",
       "    </tr>\n",
       "    <tr>\n",
       "      <th>379</th>\n",
       "      <td>washington</td>\n",
       "      <td>sendai</td>\n",
       "      <td>2516.666667</td>\n",
       "    </tr>\n",
       "  </tbody>\n",
       "</table>\n",
       "<p>379 rows × 3 columns</p>\n",
       "</div>"
      ],
      "text/plain": [
       "         Origin    Destination Average Budget\n",
       "1    Alexandria      Hiroshima         3900.0\n",
       "2    Alexandria        Phoenix    3133.333333\n",
       "3     Baltimore        Fukuoka         3900.0\n",
       "4     Baltimore      Las Vegas         3900.0\n",
       "5     Barcelona       Curitiba         3700.0\n",
       "..          ...            ...            ...\n",
       "375     vitoria   porto alegre         5800.0\n",
       "376     vitoria  santo domingo         3000.0\n",
       "377  washington       kingston         1700.0\n",
       "378  washington           rome         7500.0\n",
       "379  washington         sendai    2516.666667\n",
       "\n",
       "[379 rows x 3 columns]"
      ]
     },
     "execution_count": 37,
     "metadata": {},
     "output_type": "execute_result"
    }
   ],
   "source": [
    "dt"
   ]
  },
  {
   "cell_type": "code",
   "execution_count": 63,
   "id": "96139832",
   "metadata": {},
   "outputs": [],
   "source": [
    "l1=[]\n",
    "for i in df[\"label\"]:\n",
    "    if i%2==1:\n",
    "        t=(df[df[\"label\"]==i])[\"timestamp\"]\n",
    "        t1=t.to_list()\n",
    "        l1.append(t1[-1])\n",
    "    elif i%2==0:\n",
    "        t=(df[df[\"label\"]==i])[\"timestamp\"]\n",
    "        t1=t.to_list()\n",
    "        l1.append(t1[0])"
   ]
  },
  {
   "cell_type": "code",
   "execution_count": 66,
   "id": "0af39fed",
   "metadata": {},
   "outputs": [
    {
     "data": {
      "text/plain": [
       "(array([   3.,    3.,   13.,   51.,   71., 1165.,   85.,   30.,    4.,\n",
       "           4.]),\n",
       " array([-4653068. , -3783830.9, -2914593.8, -2045356.7, -1176119.6,\n",
       "         -306882.5,   562354.6,  1431591.7,  2300828.8,  3170065.9,\n",
       "         4039303. ]),\n",
       " <BarContainer object of 10 artists>)"
      ]
     },
     "execution_count": 66,
     "metadata": {},
     "output_type": "execute_result"
    },
    {
     "data": {
      "image/png": "[encoded data removed]",
      "text/plain": [
       "<Figure size 432x288 with 1 Axes>"
      ]
     },
     "metadata": {
      "needs_background": "light"
     },
     "output_type": "display_data"
    }
   ],
   "source": [
    "plt.hist(l2)"
   ]
  },
  {
   "cell_type": "code",
   "execution_count": null,
   "id": "81a61b77",
   "metadata": {},
   "outputs": [],
   "source": []
  }
 ],
 "metadata": {
  "kernelspec": {
   "display_name": "Python 3 (ipykernel)",
   "language": "python",
   "name": "python3"
  },
  "language_info": {
   "codemirror_mode": {
    "name": "ipython",
    "version": 3
   },
   "file_extension": ".py",
   "mimetype": "text/x-python",
   "name": "python",
   "nbconvert_exporter": "python",
   "pygments_lexer": "ipython3",
   "version": "3.9.5"
  }
 },
 "nbformat": 4,
 "nbformat_minor": 5
}
