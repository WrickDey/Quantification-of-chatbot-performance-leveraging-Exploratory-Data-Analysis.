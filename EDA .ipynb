{
 "cells": [
  {
   "cell_type": "code",
   "execution_count": 1,
   "id": "812da333",
   "metadata": {},
   "outputs": [],
   "source": [
    "import pandas as pd\n",
    "import numpy as np\n",
    "import matplotlib.pyplot as plt\n",
    "import seaborn as sns\n",
    "import scipy.stats as s\n",
    "import plotly.express as px"
   ]
  },
  {
   "cell_type": "code",
   "execution_count": 3,
   "id": "e9bab0a1",
   "metadata": {},
   "outputs": [
    {
     "data": {
      "text/html": [
       "<div>\n",
       "<style scoped>\n",
       "    .dataframe tbody tr th:only-of-type {\n",
       "        vertical-align: middle;\n",
       "    }\n",
       "\n",
       "    .dataframe tbody tr th {\n",
       "        vertical-align: top;\n",
       "    }\n",
       "\n",
       "    .dataframe thead th {\n",
       "        text-align: right;\n",
       "    }\n",
       "</style>\n",
       "<table border=\"1\" class=\"dataframe\">\n",
       "  <thead>\n",
       "    <tr style=\"text-align: right;\">\n",
       "      <th></th>\n",
       "      <th>Unnamed: 0</th>\n",
       "      <th>ID</th>\n",
       "      <th>Origin</th>\n",
       "      <th>Destination</th>\n",
       "      <th>month</th>\n",
       "      <th>day</th>\n",
       "      <th>nadults</th>\n",
       "      <th>Budget</th>\n",
       "      <th>price_min</th>\n",
       "      <th>timestamp</th>\n",
       "      <th>num_children</th>\n",
       "      <th>label</th>\n",
       "    </tr>\n",
       "  </thead>\n",
       "  <tbody>\n",
       "    <tr>\n",
       "      <th>0</th>\n",
       "      <td>0</td>\n",
       "      <td>U2709166N</td>\n",
       "      <td>Alexandria</td>\n",
       "      <td>Hiroshima</td>\n",
       "      <td>8</td>\n",
       "      <td>15</td>\n",
       "      <td>1</td>\n",
       "      <td>6700</td>\n",
       "      <td>1</td>\n",
       "      <td>1472657834</td>\n",
       "      <td>1</td>\n",
       "      <td>1</td>\n",
       "    </tr>\n",
       "    <tr>\n",
       "      <th>1</th>\n",
       "      <td>1</td>\n",
       "      <td>U2709166N</td>\n",
       "      <td>Alexandria</td>\n",
       "      <td>Hiroshima</td>\n",
       "      <td>8</td>\n",
       "      <td>15</td>\n",
       "      <td>1</td>\n",
       "      <td>1800</td>\n",
       "      <td>2000</td>\n",
       "      <td>1472658012</td>\n",
       "      <td>1</td>\n",
       "      <td>1</td>\n",
       "    </tr>\n",
       "    <tr>\n",
       "      <th>2</th>\n",
       "      <td>2</td>\n",
       "      <td>U2709166N</td>\n",
       "      <td>Alexandria</td>\n",
       "      <td>Hiroshima</td>\n",
       "      <td>8</td>\n",
       "      <td>15</td>\n",
       "      <td>1</td>\n",
       "      <td>3200</td>\n",
       "      <td>13000</td>\n",
       "      <td>1472658046</td>\n",
       "      <td>1</td>\n",
       "      <td>1</td>\n",
       "    </tr>\n",
       "    <tr>\n",
       "      <th>3</th>\n",
       "      <td>3</td>\n",
       "      <td>U2709166N</td>\n",
       "      <td>Alexandria</td>\n",
       "      <td>Phoenix</td>\n",
       "      <td>8</td>\n",
       "      <td>15</td>\n",
       "      <td>1</td>\n",
       "      <td>5800</td>\n",
       "      <td>13000</td>\n",
       "      <td>1472658095</td>\n",
       "      <td>1</td>\n",
       "      <td>2</td>\n",
       "    </tr>\n",
       "    <tr>\n",
       "      <th>4</th>\n",
       "      <td>4</td>\n",
       "      <td>U2709166N</td>\n",
       "      <td>Alexandria</td>\n",
       "      <td>Phoenix</td>\n",
       "      <td>8</td>\n",
       "      <td>15</td>\n",
       "      <td>1</td>\n",
       "      <td>1800</td>\n",
       "      <td>8000</td>\n",
       "      <td>1472658099</td>\n",
       "      <td>1</td>\n",
       "      <td>2</td>\n",
       "    </tr>\n",
       "    <tr>\n",
       "      <th>5</th>\n",
       "      <td>5</td>\n",
       "      <td>U2709166N</td>\n",
       "      <td>Alexandria</td>\n",
       "      <td>Phoenix</td>\n",
       "      <td>8</td>\n",
       "      <td>15</td>\n",
       "      <td>1</td>\n",
       "      <td>1800</td>\n",
       "      <td>5000</td>\n",
       "      <td>1472658123</td>\n",
       "      <td>1</td>\n",
       "      <td>2</td>\n",
       "    </tr>\n",
       "    <tr>\n",
       "      <th>6</th>\n",
       "      <td>6</td>\n",
       "      <td>U22K1SX9N</td>\n",
       "      <td>Baltimore</td>\n",
       "      <td>Fukuoka</td>\n",
       "      <td>8</td>\n",
       "      <td>25</td>\n",
       "      <td>4</td>\n",
       "      <td>3900</td>\n",
       "      <td>3000</td>\n",
       "      <td>1471530362</td>\n",
       "      <td>40</td>\n",
       "      <td>3</td>\n",
       "    </tr>\n",
       "    <tr>\n",
       "      <th>7</th>\n",
       "      <td>7</td>\n",
       "      <td>U22K1SX9N</td>\n",
       "      <td>Baltimore</td>\n",
       "      <td>Las Vegas</td>\n",
       "      <td>8</td>\n",
       "      <td>25</td>\n",
       "      <td>4</td>\n",
       "      <td>3900</td>\n",
       "      <td>3000</td>\n",
       "      <td>1471530346</td>\n",
       "      <td>40</td>\n",
       "      <td>4</td>\n",
       "    </tr>\n",
       "    <tr>\n",
       "      <th>8</th>\n",
       "      <td>8</td>\n",
       "      <td>U22K1SX9N</td>\n",
       "      <td>Barcelona</td>\n",
       "      <td>Curitiba</td>\n",
       "      <td>9</td>\n",
       "      <td>1</td>\n",
       "      <td>1</td>\n",
       "      <td>3700</td>\n",
       "      <td>4000</td>\n",
       "      <td>1473371651</td>\n",
       "      <td>1</td>\n",
       "      <td>5</td>\n",
       "    </tr>\n",
       "    <tr>\n",
       "      <th>9</th>\n",
       "      <td>9</td>\n",
       "      <td>U22K1SX9N</td>\n",
       "      <td>Barcelona</td>\n",
       "      <td>Curitiba</td>\n",
       "      <td>9</td>\n",
       "      <td>1</td>\n",
       "      <td>1</td>\n",
       "      <td>3700</td>\n",
       "      <td>8000</td>\n",
       "      <td>1473371656</td>\n",
       "      <td>7</td>\n",
       "      <td>5</td>\n",
       "    </tr>\n",
       "  </tbody>\n",
       "</table>\n",
       "</div>"
      ],
      "text/plain": [
       "   Unnamed: 0         ID      Origin Destination  month  day  nadults  Budget  \\\n",
       "0           0  U2709166N  Alexandria   Hiroshima      8   15        1    6700   \n",
       "1           1  U2709166N  Alexandria   Hiroshima      8   15        1    1800   \n",
       "2           2  U2709166N  Alexandria   Hiroshima      8   15        1    3200   \n",
       "3           3  U2709166N  Alexandria     Phoenix      8   15        1    5800   \n",
       "4           4  U2709166N  Alexandria     Phoenix      8   15        1    1800   \n",
       "5           5  U2709166N  Alexandria     Phoenix      8   15        1    1800   \n",
       "6           6  U22K1SX9N   Baltimore     Fukuoka      8   25        4    3900   \n",
       "7           7  U22K1SX9N   Baltimore   Las Vegas      8   25        4    3900   \n",
       "8           8  U22K1SX9N   Barcelona    Curitiba      9    1        1    3700   \n",
       "9           9  U22K1SX9N   Barcelona    Curitiba      9    1        1    3700   \n",
       "\n",
       "   price_min   timestamp  num_children  label  \n",
       "0          1  1472657834             1      1  \n",
       "1       2000  1472658012             1      1  \n",
       "2      13000  1472658046             1      1  \n",
       "3      13000  1472658095             1      2  \n",
       "4       8000  1472658099             1      2  \n",
       "5       5000  1472658123             1      2  \n",
       "6       3000  1471530362            40      3  \n",
       "7       3000  1471530346            40      4  \n",
       "8       4000  1473371651             1      5  \n",
       "9       8000  1473371656             7      5  "
      ]
     },
     "execution_count": 3,
     "metadata": {},
     "output_type": "execute_result"
    }
   ],
   "source": [
    "df=pd.read_csv(\"EDA_file.csv\")\n",
    "df.head(10)"
   ]
  },
  {
   "cell_type": "code",
   "execution_count": 4,
   "id": "858be482",
   "metadata": {},
   "outputs": [
    {
     "data": {
      "text/html": [
       "<div>\n",
       "<style scoped>\n",
       "    .dataframe tbody tr th:only-of-type {\n",
       "        vertical-align: middle;\n",
       "    }\n",
       "\n",
       "    .dataframe tbody tr th {\n",
       "        vertical-align: top;\n",
       "    }\n",
       "\n",
       "    .dataframe thead th {\n",
       "        text-align: right;\n",
       "    }\n",
       "</style>\n",
       "<table border=\"1\" class=\"dataframe\">\n",
       "  <thead>\n",
       "    <tr style=\"text-align: right;\">\n",
       "      <th></th>\n",
       "      <th>ID</th>\n",
       "      <th>Origin</th>\n",
       "      <th>Destination</th>\n",
       "      <th>month</th>\n",
       "      <th>day</th>\n",
       "      <th>nadults</th>\n",
       "      <th>Budget</th>\n",
       "      <th>price_min</th>\n",
       "      <th>timestamp</th>\n",
       "      <th>num_children</th>\n",
       "      <th>label</th>\n",
       "    </tr>\n",
       "  </thead>\n",
       "  <tbody>\n",
       "    <tr>\n",
       "      <th>0</th>\n",
       "      <td>U2709166N</td>\n",
       "      <td>Alexandria</td>\n",
       "      <td>Hiroshima</td>\n",
       "      <td>8</td>\n",
       "      <td>15</td>\n",
       "      <td>1</td>\n",
       "      <td>6700</td>\n",
       "      <td>1</td>\n",
       "      <td>1472657834</td>\n",
       "      <td>1</td>\n",
       "      <td>1</td>\n",
       "    </tr>\n",
       "    <tr>\n",
       "      <th>1</th>\n",
       "      <td>U2709166N</td>\n",
       "      <td>Alexandria</td>\n",
       "      <td>Hiroshima</td>\n",
       "      <td>8</td>\n",
       "      <td>15</td>\n",
       "      <td>1</td>\n",
       "      <td>1800</td>\n",
       "      <td>2000</td>\n",
       "      <td>1472658012</td>\n",
       "      <td>1</td>\n",
       "      <td>1</td>\n",
       "    </tr>\n",
       "    <tr>\n",
       "      <th>2</th>\n",
       "      <td>U2709166N</td>\n",
       "      <td>Alexandria</td>\n",
       "      <td>Hiroshima</td>\n",
       "      <td>8</td>\n",
       "      <td>15</td>\n",
       "      <td>1</td>\n",
       "      <td>3200</td>\n",
       "      <td>13000</td>\n",
       "      <td>1472658046</td>\n",
       "      <td>1</td>\n",
       "      <td>1</td>\n",
       "    </tr>\n",
       "    <tr>\n",
       "      <th>3</th>\n",
       "      <td>U2709166N</td>\n",
       "      <td>Alexandria</td>\n",
       "      <td>Phoenix</td>\n",
       "      <td>8</td>\n",
       "      <td>15</td>\n",
       "      <td>1</td>\n",
       "      <td>5800</td>\n",
       "      <td>13000</td>\n",
       "      <td>1472658095</td>\n",
       "      <td>1</td>\n",
       "      <td>2</td>\n",
       "    </tr>\n",
       "    <tr>\n",
       "      <th>4</th>\n",
       "      <td>U2709166N</td>\n",
       "      <td>Alexandria</td>\n",
       "      <td>Phoenix</td>\n",
       "      <td>8</td>\n",
       "      <td>15</td>\n",
       "      <td>1</td>\n",
       "      <td>1800</td>\n",
       "      <td>8000</td>\n",
       "      <td>1472658099</td>\n",
       "      <td>1</td>\n",
       "      <td>2</td>\n",
       "    </tr>\n",
       "    <tr>\n",
       "      <th>...</th>\n",
       "      <td>...</td>\n",
       "      <td>...</td>\n",
       "      <td>...</td>\n",
       "      <td>...</td>\n",
       "      <td>...</td>\n",
       "      <td>...</td>\n",
       "      <td>...</td>\n",
       "      <td>...</td>\n",
       "      <td>...</td>\n",
       "      <td>...</td>\n",
       "      <td>...</td>\n",
       "    </tr>\n",
       "    <tr>\n",
       "      <th>1426</th>\n",
       "      <td>U24V2QUKC</td>\n",
       "      <td>washington</td>\n",
       "      <td>sendai</td>\n",
       "      <td>9</td>\n",
       "      <td>1</td>\n",
       "      <td>1</td>\n",
       "      <td>3300</td>\n",
       "      <td>500</td>\n",
       "      <td>1472154364</td>\n",
       "      <td>1</td>\n",
       "      <td>379</td>\n",
       "    </tr>\n",
       "    <tr>\n",
       "      <th>1427</th>\n",
       "      <td>U24V2QUKC</td>\n",
       "      <td>washington</td>\n",
       "      <td>sendai</td>\n",
       "      <td>9</td>\n",
       "      <td>1</td>\n",
       "      <td>1</td>\n",
       "      <td>2000</td>\n",
       "      <td>4000</td>\n",
       "      <td>1472154450</td>\n",
       "      <td>1</td>\n",
       "      <td>379</td>\n",
       "    </tr>\n",
       "    <tr>\n",
       "      <th>1428</th>\n",
       "      <td>U24V2QUKC</td>\n",
       "      <td>washington</td>\n",
       "      <td>sendai</td>\n",
       "      <td>9</td>\n",
       "      <td>1</td>\n",
       "      <td>1</td>\n",
       "      <td>2000</td>\n",
       "      <td>500</td>\n",
       "      <td>1472154452</td>\n",
       "      <td>1</td>\n",
       "      <td>379</td>\n",
       "    </tr>\n",
       "    <tr>\n",
       "      <th>1429</th>\n",
       "      <td>U24V2QUKC</td>\n",
       "      <td>washington</td>\n",
       "      <td>sendai</td>\n",
       "      <td>9</td>\n",
       "      <td>1</td>\n",
       "      <td>1</td>\n",
       "      <td>3300</td>\n",
       "      <td>4500</td>\n",
       "      <td>1472154605</td>\n",
       "      <td>1</td>\n",
       "      <td>379</td>\n",
       "    </tr>\n",
       "    <tr>\n",
       "      <th>1430</th>\n",
       "      <td>U24V2QUKC</td>\n",
       "      <td>washington</td>\n",
       "      <td>sendai</td>\n",
       "      <td>9</td>\n",
       "      <td>1</td>\n",
       "      <td>1</td>\n",
       "      <td>3500</td>\n",
       "      <td>4000</td>\n",
       "      <td>1472154678</td>\n",
       "      <td>1</td>\n",
       "      <td>379</td>\n",
       "    </tr>\n",
       "  </tbody>\n",
       "</table>\n",
       "<p>1431 rows × 11 columns</p>\n",
       "</div>"
      ],
      "text/plain": [
       "             ID      Origin Destination  month  day  nadults  Budget  \\\n",
       "0     U2709166N  Alexandria   Hiroshima      8   15        1    6700   \n",
       "1     U2709166N  Alexandria   Hiroshima      8   15        1    1800   \n",
       "2     U2709166N  Alexandria   Hiroshima      8   15        1    3200   \n",
       "3     U2709166N  Alexandria     Phoenix      8   15        1    5800   \n",
       "4     U2709166N  Alexandria     Phoenix      8   15        1    1800   \n",
       "...         ...         ...         ...    ...  ...      ...     ...   \n",
       "1426  U24V2QUKC  washington      sendai      9    1        1    3300   \n",
       "1427  U24V2QUKC  washington      sendai      9    1        1    2000   \n",
       "1428  U24V2QUKC  washington      sendai      9    1        1    2000   \n",
       "1429  U24V2QUKC  washington      sendai      9    1        1    3300   \n",
       "1430  U24V2QUKC  washington      sendai      9    1        1    3500   \n",
       "\n",
       "      price_min   timestamp  num_children  label  \n",
       "0             1  1472657834             1      1  \n",
       "1          2000  1472658012             1      1  \n",
       "2         13000  1472658046             1      1  \n",
       "3         13000  1472658095             1      2  \n",
       "4          8000  1472658099             1      2  \n",
       "...         ...         ...           ...    ...  \n",
       "1426        500  1472154364             1    379  \n",
       "1427       4000  1472154450             1    379  \n",
       "1428        500  1472154452             1    379  \n",
       "1429       4500  1472154605             1    379  \n",
       "1430       4000  1472154678             1    379  \n",
       "\n",
       "[1431 rows x 11 columns]"
      ]
     },
     "execution_count": 4,
     "metadata": {},
     "output_type": "execute_result"
    }
   ],
   "source": [
    "df.drop([\"Unnamed: 0\"],axis=1,inplace=True)\n",
    "df"
   ]
  },
  {
   "cell_type": "code",
   "execution_count": 5,
   "id": "1f3a0452",
   "metadata": {},
   "outputs": [],
   "source": [
    "# Most visited city ( Destination ) Hiroshima\n",
    "# Most important ( Origin ) Alexandria\n",
    "# Most busy ( to and fro ) Punta Cana \n",
    "# Less important cities ( Origin )\n",
    "# Family friendly places\n",
    "# School or college excursions\n",
    "# Most favourable time of the year for travel ( weather, events , tourist friendly atmosphere( clear skies.....))\n",
    "# Most favourable budget.( Average value ) to segregate luxury tours and affordable tours\n",
    "# Seperate out budget as luxury and affordable, then identify those cities which have most luxury tours ( posh areas (Origin),Main Tourism( Destination )).\n",
    "# Min. price for a particular tour.\n",
    "# Maximum people going out of a city at minimum price points towards LACK OF INDUSTRIES OR LOW SKILLED LABOUR at that place, without return travel.(considering PRICE_MIN)\n",
    "# Distribtions finding. ***"
   ]
  },
  {
   "cell_type": "code",
   "execution_count": 6,
   "id": "f9ac0c6d",
   "metadata": {},
   "outputs": [
    {
     "data": {
      "text/plain": [
       "<BarContainer object of 15 artists>"
      ]
     },
     "execution_count": 6,
     "metadata": {},
     "output_type": "execute_result"
    },
    {
     "data": {
      "image/png": "[encoded data removed]",
      "text/plain": [
       "<Figure size 720x360 with 1 Axes>"
      ]
     },
     "metadata": {
      "needs_background": "light"
     },
     "output_type": "display_data"
    }
   ],
   "source": [
    "# Most important city ( Origin )\n",
    "plt.figure(figsize=(10,5))\n",
    "plt.barh(df['Origin'].unique()[:15], df['Origin'].value_counts()[:15])"
   ]
  },
  {
   "cell_type": "code",
   "execution_count": 7,
   "id": "57df6738",
   "metadata": {},
   "outputs": [
    {
     "data": {
      "text/plain": [
       "<BarContainer object of 15 artists>"
      ]
     },
     "execution_count": 7,
     "metadata": {},
     "output_type": "execute_result"
    },
    {
     "data": {
      "image/png": "[encoded data removed]",
      "text/plain": [
       "<Figure size 720x360 with 1 Axes>"
      ]
     },
     "metadata": {
      "needs_background": "light"
     },
     "output_type": "display_data"
    }
   ],
   "source": [
    "# Most visited city ( Destination )\n",
    "plt.figure(figsize=(10,5))\n",
    "plt.barh(df['Destination'].unique()[:15], df['Destination'].value_counts()[:15])"
   ]
  },
  {
   "cell_type": "code",
   "execution_count": 8,
   "id": "81698a1a",
   "metadata": {},
   "outputs": [],
   "source": [
    "import seaborn as sns"
   ]
  },
  {
   "cell_type": "code",
   "execution_count": 9,
   "id": "55425fda",
   "metadata": {},
   "outputs": [
    {
     "data": {
      "text/plain": [
       "136.6"
      ]
     },
     "execution_count": 9,
     "metadata": {},
     "output_type": "execute_result"
    }
   ],
   "source": [
    "df['Origin'].value_counts()[:5].mean()"
   ]
  },
  {
   "cell_type": "code",
   "execution_count": 10,
   "id": "f8e57778",
   "metadata": {},
   "outputs": [
    {
     "data": {
      "text/plain": [
       "112.0"
      ]
     },
     "execution_count": 10,
     "metadata": {},
     "output_type": "execute_result"
    }
   ],
   "source": [
    "df['Destination'].value_counts()[:5].mean()"
   ]
  },
  {
   "cell_type": "code",
   "execution_count": 11,
   "id": "28a0d460",
   "metadata": {},
   "outputs": [
    {
     "data": {
      "text/plain": [
       "{'tofino': 408,\n",
       " 'Mannheim': 91,\n",
       " 'punta cana': 96,\n",
       " 'Santa Cruz': 64,\n",
       " 'Houston': 39,\n",
       " 'tijuana': 39,\n",
       " 'kobe': 32,\n",
       " 'sendai': 25,\n",
       " 'tampa': 23,\n",
       " 'jerusalem': 18,\n",
       " 'kingston': 17,\n",
       " 'vancouver': 16,\n",
       " 'Tokyo': 16,\n",
       " 'Nagoya': 15,\n",
       " 'Kingston': 15,\n",
       " 'Toronto': 14,\n",
       " 'la paz': 14,\n",
       " 'Seattle': 14,\n",
       " 'Brasilia': 13,\n",
       " 'Sydney': 13,\n",
       " 'belo horizonte': 13,\n",
       " 'Guadalajara': 13,\n",
       " 'Buenos Aires': 13,\n",
       " 'Barcelona': 12,\n",
       " 'toronto': 12,\n",
       " 'lima': 11,\n",
       " 'Belo Horizonte': 10,\n",
       " 'barcelona': 10,\n",
       " 'denver': 10,\n",
       " 'monterrey': 9,\n",
       " 'washington': 9,\n",
       " 'cancun': 8,\n",
       " 'santiago': 8,\n",
       " 'Recife': 8,\n",
       " 'mexico city': 8,\n",
       " 'Cleveland': 8,\n",
       " 'Tijuana': 8,\n",
       " 'calgary': 8,\n",
       " 'Ulsan': 7,\n",
       " 'Belem': 7,\n",
       " 'burlington': 7,\n",
       " 'rome': 7,\n",
       " 'berlin': 7,\n",
       " 'brasilia': 7,\n",
       " 'london': 6,\n",
       " 'san francisco': 6,\n",
       " 'north vancouver': 6,\n",
       " 'alexandria': 6,\n",
       " 'Alexandria': 6,\n",
       " 'Long Beach': 6,\n",
       " 'Queenstown': 6,\n",
       " 'North Vancouver': 6,\n",
       " 'Santo Domingo': 5,\n",
       " 'salvador': 5,\n",
       " 'Manaus': 5,\n",
       " 'Burlington': 5,\n",
       " 'essen': 5,\n",
       " 'Beijing': 4,\n",
       " 'paris': 4,\n",
       " 'baltimore': 4,\n",
       " 'phoenix': 4,\n",
       " 'Campinas': 4,\n",
       " 'Tofino': 4,\n",
       " 'Termina': 4,\n",
       " 'Rio de Janeiro': 4,\n",
       " 'recife': 4,\n",
       " 'Cairo': 4,\n",
       " 'Busan': 4,\n",
       " 'Rosario': 4,\n",
       " 'Sapporo': 4,\n",
       " 'valencia': 4,\n",
       " 'minneapolis': 4,\n",
       " 'Kabul': 3,\n",
       " 'Melbourne': 3,\n",
       " 'Monterrey': 3,\n",
       " 'Phoenix': 3,\n",
       " 'Curitiba': 3,\n",
       " 'Toluca': 3,\n",
       " 'Calgary': 3,\n",
       " 'st. petersburg': 3,\n",
       " 'Berlin': 3,\n",
       " 'vitoria': 3,\n",
       " 'porto alegre': 2,\n",
       " 'pittsburgh': 2,\n",
       " 'Jerusalem': 2,\n",
       " 'Columbus': 2,\n",
       " 'philadelphia': 2,\n",
       " 'st. louis': 2,\n",
       " 'Fortaleza': 2,\n",
       " 'new york': 2,\n",
       " 'Fukuoka': 2,\n",
       " 'Rome': 2,\n",
       " 'Tampa': 2,\n",
       " 'Vancouver': 2,\n",
       " 'Puebla': 2,\n",
       " 'madrid': 2,\n",
       " 'Osaka': 2,\n",
       " 'Baltimore': 2,\n",
       " 'Minneapolis': 2,\n",
       " 'Stuttgart': 2,\n",
       " 'St. Petersburg': 2,\n",
       " 'fort lauderdale': 2,\n",
       " 'Leon': 2,\n",
       " 'Las Vegas': 2,\n",
       " 'Santos': 2,\n",
       " 'San Juan': 2,\n",
       " 'Resife': 1,\n",
       " 'tel aviv': 1,\n",
       " 'San Antonio': 1,\n",
       " 'Tel Aviv': 1,\n",
       " 'Tijuama': 1,\n",
       " 'melbourne': 1,\n",
       " 'santo domingo': 1,\n",
       " 'Porto': 1,\n",
       " 'Pittsburgh': 1,\n",
       " 'Montreal': 1,\n",
       " 'Fort Lauderdale': 1,\n",
       " 'Milan': 1,\n",
       " 'chicago bay': 1,\n",
       " 'Los Angeles': 1,\n",
       " 'mos eisley': 1,\n",
       " 'montreal': 1,\n",
       " 'Kochi': 1,\n",
       " 'Lima': 1}"
      ]
     },
     "execution_count": 11,
     "metadata": {},
     "output_type": "execute_result"
    }
   ],
   "source": [
    "d1=df['Origin'].value_counts().to_dict()\n",
    "d1.update({'punta cana':96})\n",
    "del d1[\"Punta Cana\"]\n",
    "d1\n",
    "\n"
   ]
  },
  {
   "cell_type": "code",
   "execution_count": 12,
   "id": "57e70f82",
   "metadata": {},
   "outputs": [
    {
     "data": {
      "text/plain": [
       "{'sao paulo': 402,\n",
       " 'punta cana': 81,\n",
       " 'Denver': 43,\n",
       " 'Toronto': 32,\n",
       " 'porto alegre': 24,\n",
       " 'los angeles': 24,\n",
       " 'New York': 22,\n",
       " 'Rio de Janeiro': 21,\n",
       " 'brasilia': 21,\n",
       " 'rome': 21,\n",
       " 'curitiba': 20,\n",
       " 'sacramento': 19,\n",
       " 'San Antonio': 19,\n",
       " 'kobe': 19,\n",
       " 'St. Petersburg': 17,\n",
       " 'leon': 16,\n",
       " 'santo domingo': 16,\n",
       " 'Busan': 15,\n",
       " 'Hamburg': 15,\n",
       " 'Burlington': 15,\n",
       " 'rosario': 14,\n",
       " 'Brasilia': 14,\n",
       " 'kyoto': 14,\n",
       " 'Halifax': 14,\n",
       " 'sydney': 14,\n",
       " 'Minneapolis': 13,\n",
       " 'Alexandria': 13,\n",
       " 'Brazil': 12,\n",
       " 'Porto Alegre': 12,\n",
       " 'Pittsburgh': 10,\n",
       " 'santa cruz': 10,\n",
       " 'Santo Domingo': 9,\n",
       " 'indianapolis': 9,\n",
       " 'guadalajara': 8,\n",
       " 'Hiroshima': 7,\n",
       " 'miami': 7,\n",
       " 'San Diego': 7,\n",
       " 'Tijuana': 7,\n",
       " 'melbourne': 6,\n",
       " 'Queenstown': 6,\n",
       " 'recife': 6,\n",
       " 'Vancouver': 6,\n",
       " 'Ulsan': 6,\n",
       " 'nagoya': 6,\n",
       " 'belem': 6,\n",
       " 'paris': 6,\n",
       " 'phoenix': 6,\n",
       " 'sendai': 6,\n",
       " 'Lima': 6,\n",
       " 'Curitiba': 6,\n",
       " 'Barcelona': 6,\n",
       " 'Sao Paulo': 6,\n",
       " 'Milan': 6,\n",
       " 'Naples': 6,\n",
       " 'Manaus': 5,\n",
       " 'San Juan': 5,\n",
       " 'Madrid': 5,\n",
       " 'burlington': 5,\n",
       " 'osaka': 5,\n",
       " 'manaus': 5,\n",
       " 'Manas': 5,\n",
       " 'Atlanta': 5,\n",
       " 'kingston': 5,\n",
       " 'la paz': 5,\n",
       " 'goiania': 4,\n",
       " 'porto': 4,\n",
       " 'naples': 4,\n",
       " 'berlin': 4,\n",
       " 'boston': 4,\n",
       " 'ciudad juarez': 4,\n",
       " 'rio de janeiro': 4,\n",
       " 'long beach': 4,\n",
       " 'Chicago': 4,\n",
       " 'marseille': 4,\n",
       " 'Fukuoka': 4,\n",
       " 'Atlantis': 4,\n",
       " 'buenos aires': 3,\n",
       " 'denver': 3,\n",
       " 'Mexico City': 3,\n",
       " 'Guadalajara': 3,\n",
       " 'atlanta': 3,\n",
       " 'salvador': 3,\n",
       " 'Phoenix': 3,\n",
       " 'hiroshima': 3,\n",
       " 'madrid': 3,\n",
       " 'La Paz': 3,\n",
       " 'Rosario': 3,\n",
       " 'pittsburgh': 3,\n",
       " 'vancouver': 3,\n",
       " 'Santios': 3,\n",
       " 'Las Vegas': 3,\n",
       " 'rosarioe': 3,\n",
       " 'san juan': 3,\n",
       " 'Buenos Aires': 3,\n",
       " 'Bel Horizonte': 3,\n",
       " 'Santos': 3,\n",
       " 'Kochi': 3,\n",
       " 'Kingston': 3,\n",
       " 'san jose': 3,\n",
       " 'Istanbul': 3,\n",
       " 'philadelphia': 2,\n",
       " 'dublin': 2,\n",
       " 'Santso': 2,\n",
       " 'manas': 2,\n",
       " 'Goiania': 2,\n",
       " 'milan': 2,\n",
       " 'birmingham': 2,\n",
       " 'lima': 2,\n",
       " 'tampa': 2,\n",
       " 'minneapolis': 2,\n",
       " 'hamburg': 2,\n",
       " 'Montreal': 2,\n",
       " 'munich': 2,\n",
       " 'Detroit': 2,\n",
       " 'Rome': 2,\n",
       " 'St. Louis': 2,\n",
       " 'toronto': 2,\n",
       " 'Toluca': 2,\n",
       " 'Tofino': 2,\n",
       " 'Monterrey': 2,\n",
       " 'Leon': 2,\n",
       " 'Fortaleza': 2,\n",
       " 'Recife': 2,\n",
       " 'Long Beach': 2,\n",
       " 'Berlin': 2,\n",
       " 'Birmingham': 2,\n",
       " 'Frankfurt': 2,\n",
       " 'Hiroshami': 2,\n",
       " 'Santiago': 2,\n",
       " 'Essen': 2,\n",
       " 'Cairo': 2,\n",
       " 'Detoit': 2,\n",
       " 'San Francisco': 2,\n",
       " 'Puebla': 1,\n",
       " 'Marseille': 1,\n",
       " 'Campinas': 1,\n",
       " 'baltimore': 1,\n",
       " 'Sacramento': 1,\n",
       " 'Sapporo': 1,\n",
       " 'Salvador': 1,\n",
       " 'kabul': 1,\n",
       " 'santos': 1,\n",
       " 'athens': 1,\n",
       " 'Los Angeles': 1,\n",
       " 'calgary': 1,\n",
       " 'cairo': 1,\n",
       " 'Mannheim': 1,\n",
       " 'ulsan': 1,\n",
       " 'santo dominican': 1,\n",
       " 'Baltimore': 1,\n",
       " 'Fort Lauderdale': 1,\n",
       " 'Campinnas': 1,\n",
       " 'tofino': 1,\n",
       " 'San Antoni': 1,\n",
       " 'cancun': 1,\n",
       " 'new york': 1,\n",
       " 'Cleveland': 1,\n",
       " 'Santa Cruz': 1,\n",
       " 'tokyo': 1,\n",
       " 'Maceio': 1,\n",
       " 'amburg': 1,\n",
       " 'columbus': 1,\n",
       " 'Vitoria': 1,\n",
       " 'Cancun': 1,\n",
       " 'puebla': 1,\n",
       " 'monterrey': 1,\n",
       " 'Washington': 1,\n",
       " 'columbo': 1,\n",
       " 'houston': 1,\n",
       " 'fukuoka': 1,\n",
       " 'Kobe': 1,\n",
       " 'essen': 1,\n",
       " 'Belem': 1,\n",
       " 'fortaleza': 1,\n",
       " 'las vegas': 1,\n",
       " 'Stuttgart': 1}"
      ]
     },
     "execution_count": 12,
     "metadata": {},
     "output_type": "execute_result"
    }
   ],
   "source": [
    "d2=df['Destination'].value_counts().to_dict()\n",
    "d2.update({'punta cana':81})\n",
    "del d2[\"Punta Cana\"]\n",
    "d2"
   ]
  },
  {
   "cell_type": "code",
   "execution_count": 13,
   "id": "e494644b",
   "metadata": {},
   "outputs": [
    {
     "name": "stdout",
     "output_type": "stream",
     "text": [
      "punta cana\n"
     ]
    }
   ],
   "source": [
    "l=[]\n",
    "for i in d1.items():\n",
    "    if i[1]>=80 and i[1]<=120:\n",
    "        l.append(i[0])\n",
    "for j in d2.items():\n",
    "    if j[1]>=80 and j[1]<=120:\n",
    "        if j[0] in l:\n",
    "            print(j[0])\n",
    "        "
   ]
  },
  {
   "cell_type": "markdown",
   "id": "8b1e8f7e",
   "metadata": {},
   "source": [
    "# There, Punta Cana is the most important tourist place in Caribbean. The Punta Cana International Airport is the primary airport. \n",
    "# In 2014, Punta Cana received over 2.4 million passengers, making it the second-busiest airport in the Caribbean."
   ]
  },
  {
   "cell_type": "code",
   "execution_count": 14,
   "id": "947ca6eb",
   "metadata": {},
   "outputs": [
    {
     "name": "stdout",
     "output_type": "stream",
     "text": [
      "1.0   1.0\n"
     ]
    }
   ],
   "source": [
    "me1=df['Origin'].value_counts()[-11:-1].mean()\n",
    "me2=df['Destination'].value_counts()[-11:-1].mean()\n",
    "print(me1,\" \",me2)"
   ]
  },
  {
   "cell_type": "code",
   "execution_count": 15,
   "id": "24ac8e7e",
   "metadata": {},
   "outputs": [
    {
     "name": "stdout",
     "output_type": "stream",
     "text": [
      "Los Angeles\n",
      "Fort Lauderdale\n"
     ]
    }
   ],
   "source": [
    "l1=[]\n",
    "for i in d1.items():\n",
    "    if i[1]==1:\n",
    "        l1.append(i[0])\n",
    "for j in d2.items():\n",
    "    if j[1]==1:\n",
    "        if j[0] in l1:\n",
    "            print(j[0])"
   ]
  },
  {
   "cell_type": "code",
   "execution_count": 16,
   "id": "ce1fd0cf",
   "metadata": {},
   "outputs": [
    {
     "data": {
      "text/plain": [
       "Burlington      14\n",
       "kobe             8\n",
       "Porto Alegre     8\n",
       "Frankfurt        2\n",
       "porto            2\n",
       "paris            2\n",
       "Mexico City      1\n",
       "phoenix          1\n",
       "Montreal         1\n",
       "san jose         1\n",
       "Name: Destination, dtype: int64"
      ]
     },
     "execution_count": 16,
     "metadata": {},
     "output_type": "execute_result"
    }
   ],
   "source": [
    "# Family Friendly places\n",
    "dffamily=(df[(df[\"nadults\"]==2) & ((df[\"num_children\"]==1) | (df[\"num_children\"]==2))])\n",
    "dffamily[\"Destination\"].value_counts()[:10]"
   ]
  },
  {
   "cell_type": "code",
   "execution_count": 17,
   "id": "dc6c9f32",
   "metadata": {},
   "outputs": [],
   "source": [
    "# According to the 2010 population census, the population of Porto Alegre is made up of Roman Catholics (63.85%); Protestants or evangelicals (11.65%); spiritists (7.03%); Umbanda and Candomblé (3.35%); the unreligious (10.38%) and people of other religions (3.64%).[67]\n",
    "# The Church of Jesus Christ of Latter-day Saints has a temple in Porto Alegre.[68] ( Wiki )\n",
    "\n",
    "#With its intimate atmosphere and age-friendly attractions, Burlington is truly one of the best places to visit in Vermont with kids. Burlington is a small cosmopolitan urban destination with scores of fun activities for the whole family. From the scenic Waterfront Park to pristine beaches, \n",
    "# the town oozes with family fun. https://www.bing.com/ck/a?!&&p=b7eda65990ac85e75cb05235857852d6c1e2d321397195ad9892e47af0bf14eaJmltdHM9MTY1MzMzNzY3NCZpZ3VpZD02OTMzYjMwMC0xNjM5LTRkNzgtYTQ0ZC1kYmZhYTJhNTU1Y2YmaW5zaWQ9NTQwNg&ptn=3&fclid=d346ecf9-dad6-11ec-ba76-ca5e0c10bd30&u=a1aHR0cHM6Ly9mYW1pbHlkZXN0aW5hdGlvbnNndWlkZS5jb20vYmVzdC1mYW1pbHktdmFjYXRpb25zLWluLXZlcm1vbnQvIzp-OnRleHQ9V2l0aCUyMGl0cyUyMGludGltYXRlJTIwYXRtb3NwaGVyZSUyMGFuZCUyMGFnZS1mcmllbmRseSUyMGF0dHJhY3Rpb25zJTJDJTIwQnVybGluZ3RvbixwcmlzdGluZSUyMGJlYWNoZXMlMkMlMjB0aGUlMjB0b3duJTIwb296ZXMlMjB3aXRoJTIwZmFtaWx5JTIwZnVuLg&ntb=1"
   ]
  },
  {
   "cell_type": "code",
   "execution_count": 18,
   "id": "dd4fa159",
   "metadata": {},
   "outputs": [
    {
     "data": {
      "text/plain": [
       "array(['Fukuoka', 'Las Vegas', 'New York', 'Pittsburgh', 'Hamburg',\n",
       "       'manaus', 'madrid', 'santa cruz', 'osaka'], dtype=object)"
      ]
     },
     "execution_count": 18,
     "metadata": {},
     "output_type": "execute_result"
    }
   ],
   "source": [
    "# School or college excursions\n",
    "\n",
    "\n",
    "df[\"num_children\"].max()\n",
    "k=df[(df[\"num_children\"]==40)]\n",
    "k[\"Destination\"].unique()"
   ]
  },
  {
   "cell_type": "code",
   "execution_count": 19,
   "id": "6b9bb32c",
   "metadata": {},
   "outputs": [
    {
     "data": {
      "text/plain": [
       "New York    4\n",
       "Hamburg     3\n",
       "madrid      3\n",
       "Fukuoka     2\n",
       "osaka       2\n",
       "Name: Destination, dtype: int64"
      ]
     },
     "execution_count": 19,
     "metadata": {},
     "output_type": "execute_result"
    }
   ],
   "source": [
    "k[\"Destination\"].value_counts()[:5]"
   ]
  },
  {
   "cell_type": "code",
   "execution_count": 20,
   "id": "85bb038f",
   "metadata": {},
   "outputs": [
    {
     "ename": "ValueError",
     "evalue": "Value of 'x' is not the name of a column in 'data_frame'. Expected one of ['ID', 'Origin', 'Destination', 'month', 'day', 'nadults', 'Budget', 'price_min', 'timestamp', 'num_children', 'label'] but received: year",
     "output_type": "error",
     "traceback": [
      "\u001b[1;31m---------------------------------------------------------------------------\u001b[0m",
      "\u001b[1;31mValueError\u001b[0m                                Traceback (most recent call last)",
      "Input \u001b[1;32mIn [20]\u001b[0m, in \u001b[0;36m<module>\u001b[1;34m\u001b[0m\n\u001b[0;32m      1\u001b[0m l\u001b[38;5;241m=\u001b[39mk[\u001b[38;5;124m\"\u001b[39m\u001b[38;5;124mDestination\u001b[39m\u001b[38;5;124m\"\u001b[39m]\u001b[38;5;241m.\u001b[39mvalue_counts()[:\u001b[38;5;241m5\u001b[39m]\u001b[38;5;241m.\u001b[39mkeys()\n\u001b[0;32m      2\u001b[0m plt\u001b[38;5;241m.\u001b[39mbar(l,k[\u001b[38;5;124m\"\u001b[39m\u001b[38;5;124mDestination\u001b[39m\u001b[38;5;124m\"\u001b[39m]\u001b[38;5;241m.\u001b[39mvalue_counts()[:\u001b[38;5;241m5\u001b[39m]\u001b[38;5;241m.\u001b[39mto_list())\n\u001b[1;32m----> 3\u001b[0m fig \u001b[38;5;241m=\u001b[39m \u001b[43mpx\u001b[49m\u001b[38;5;241;43m.\u001b[39;49m\u001b[43mbar\u001b[49m\u001b[43m(\u001b[49m\u001b[43mdf\u001b[49m\u001b[43m,\u001b[49m\u001b[43m \u001b[49m\u001b[43mx\u001b[49m\u001b[38;5;241;43m=\u001b[39;49m\u001b[38;5;124;43m'\u001b[39;49m\u001b[38;5;124;43myear\u001b[39;49m\u001b[38;5;124;43m'\u001b[39;49m\u001b[43m,\u001b[49m\u001b[43m \u001b[49m\u001b[43my\u001b[49m\u001b[38;5;241;43m=\u001b[39;49m\u001b[38;5;124;43m'\u001b[39;49m\u001b[38;5;124;43mpop\u001b[39;49m\u001b[38;5;124;43m'\u001b[39;49m\u001b[43m,\u001b[49m\n\u001b[0;32m      4\u001b[0m \u001b[43m             \u001b[49m\u001b[43mhover_data\u001b[49m\u001b[38;5;241;43m=\u001b[39;49m\u001b[43m[\u001b[49m\u001b[38;5;124;43m'\u001b[39;49m\u001b[38;5;124;43mlifeExp\u001b[39;49m\u001b[38;5;124;43m'\u001b[39;49m\u001b[43m,\u001b[49m\u001b[43m \u001b[49m\u001b[38;5;124;43m'\u001b[39;49m\u001b[38;5;124;43mgdpPercap\u001b[39;49m\u001b[38;5;124;43m'\u001b[39;49m\u001b[43m]\u001b[49m\u001b[43m,\u001b[49m\u001b[43m \u001b[49m\u001b[43mcolor\u001b[49m\u001b[38;5;241;43m=\u001b[39;49m\u001b[38;5;124;43m'\u001b[39;49m\u001b[38;5;124;43mlifeExp\u001b[39;49m\u001b[38;5;124;43m'\u001b[39;49m\u001b[43m,\u001b[49m\n\u001b[0;32m      5\u001b[0m \u001b[43m             \u001b[49m\u001b[43mlabels\u001b[49m\u001b[38;5;241;43m=\u001b[39;49m\u001b[43m{\u001b[49m\u001b[38;5;124;43m'\u001b[39;49m\u001b[38;5;124;43mpop\u001b[39;49m\u001b[38;5;124;43m'\u001b[39;49m\u001b[43m:\u001b[49m\u001b[38;5;124;43m'\u001b[39;49m\u001b[38;5;124;43mpopulation of Canada\u001b[39;49m\u001b[38;5;124;43m'\u001b[39;49m\u001b[43m}\u001b[49m\u001b[43m,\u001b[49m\u001b[43m \u001b[49m\u001b[43mheight\u001b[49m\u001b[38;5;241;43m=\u001b[39;49m\u001b[38;5;241;43m400\u001b[39;49m\u001b[43m)\u001b[49m\n\u001b[0;32m      6\u001b[0m fig\u001b[38;5;241m.\u001b[39mshow()\n",
      "File \u001b[1;32mc:\\users\\arnab\\appdata\\local\\programs\\python\\python39\\lib\\site-packages\\plotly\\express\\_chart_types.py:373\u001b[0m, in \u001b[0;36mbar\u001b[1;34m(data_frame, x, y, color, pattern_shape, facet_row, facet_col, facet_col_wrap, facet_row_spacing, facet_col_spacing, hover_name, hover_data, custom_data, text, base, error_x, error_x_minus, error_y, error_y_minus, animation_frame, animation_group, category_orders, labels, color_discrete_sequence, color_discrete_map, color_continuous_scale, pattern_shape_sequence, pattern_shape_map, range_color, color_continuous_midpoint, opacity, orientation, barmode, log_x, log_y, range_x, range_y, text_auto, title, template, width, height)\u001b[0m\n\u001b[0;32m    325\u001b[0m \u001b[38;5;28;01mdef\u001b[39;00m \u001b[38;5;21mbar\u001b[39m(\n\u001b[0;32m    326\u001b[0m     data_frame\u001b[38;5;241m=\u001b[39m\u001b[38;5;28;01mNone\u001b[39;00m,\n\u001b[0;32m    327\u001b[0m     x\u001b[38;5;241m=\u001b[39m\u001b[38;5;28;01mNone\u001b[39;00m,\n\u001b[1;32m   (...)\u001b[0m\n\u001b[0;32m    367\u001b[0m     height\u001b[38;5;241m=\u001b[39m\u001b[38;5;28;01mNone\u001b[39;00m,\n\u001b[0;32m    368\u001b[0m ) \u001b[38;5;241m-\u001b[39m\u001b[38;5;241m>\u001b[39m go\u001b[38;5;241m.\u001b[39mFigure:\n\u001b[0;32m    369\u001b[0m     \u001b[38;5;124;03m\"\"\"\u001b[39;00m\n\u001b[0;32m    370\u001b[0m \u001b[38;5;124;03m    In a bar plot, each row of `data_frame` is represented as a rectangular\u001b[39;00m\n\u001b[0;32m    371\u001b[0m \u001b[38;5;124;03m    mark.\u001b[39;00m\n\u001b[0;32m    372\u001b[0m \u001b[38;5;124;03m    \"\"\"\u001b[39;00m\n\u001b[1;32m--> 373\u001b[0m     \u001b[38;5;28;01mreturn\u001b[39;00m \u001b[43mmake_figure\u001b[49m\u001b[43m(\u001b[49m\n\u001b[0;32m    374\u001b[0m \u001b[43m        \u001b[49m\u001b[43margs\u001b[49m\u001b[38;5;241;43m=\u001b[39;49m\u001b[38;5;28;43mlocals\u001b[39;49m\u001b[43m(\u001b[49m\u001b[43m)\u001b[49m\u001b[43m,\u001b[49m\n\u001b[0;32m    375\u001b[0m \u001b[43m        \u001b[49m\u001b[43mconstructor\u001b[49m\u001b[38;5;241;43m=\u001b[39;49m\u001b[43mgo\u001b[49m\u001b[38;5;241;43m.\u001b[39;49m\u001b[43mBar\u001b[49m\u001b[43m,\u001b[49m\n\u001b[0;32m    376\u001b[0m \u001b[43m        \u001b[49m\u001b[43mtrace_patch\u001b[49m\u001b[38;5;241;43m=\u001b[39;49m\u001b[38;5;28;43mdict\u001b[39;49m\u001b[43m(\u001b[49m\u001b[43mtextposition\u001b[49m\u001b[38;5;241;43m=\u001b[39;49m\u001b[38;5;124;43m\"\u001b[39;49m\u001b[38;5;124;43mauto\u001b[39;49m\u001b[38;5;124;43m\"\u001b[39;49m\u001b[43m)\u001b[49m\u001b[43m,\u001b[49m\n\u001b[0;32m    377\u001b[0m \u001b[43m        \u001b[49m\u001b[43mlayout_patch\u001b[49m\u001b[38;5;241;43m=\u001b[39;49m\u001b[38;5;28;43mdict\u001b[39;49m\u001b[43m(\u001b[49m\u001b[43mbarmode\u001b[49m\u001b[38;5;241;43m=\u001b[39;49m\u001b[43mbarmode\u001b[49m\u001b[43m)\u001b[49m\u001b[43m,\u001b[49m\n\u001b[0;32m    378\u001b[0m \u001b[43m    \u001b[49m\u001b[43m)\u001b[49m\n",
      "File \u001b[1;32mc:\\users\\arnab\\appdata\\local\\programs\\python\\python39\\lib\\site-packages\\plotly\\express\\_core.py:1948\u001b[0m, in \u001b[0;36mmake_figure\u001b[1;34m(args, constructor, trace_patch, layout_patch)\u001b[0m\n\u001b[0;32m   1945\u001b[0m layout_patch \u001b[38;5;241m=\u001b[39m layout_patch \u001b[38;5;129;01mor\u001b[39;00m {}\n\u001b[0;32m   1946\u001b[0m apply_default_cascade(args)\n\u001b[1;32m-> 1948\u001b[0m args \u001b[38;5;241m=\u001b[39m \u001b[43mbuild_dataframe\u001b[49m\u001b[43m(\u001b[49m\u001b[43margs\u001b[49m\u001b[43m,\u001b[49m\u001b[43m \u001b[49m\u001b[43mconstructor\u001b[49m\u001b[43m)\u001b[49m\n\u001b[0;32m   1949\u001b[0m \u001b[38;5;28;01mif\u001b[39;00m constructor \u001b[38;5;129;01min\u001b[39;00m [go\u001b[38;5;241m.\u001b[39mTreemap, go\u001b[38;5;241m.\u001b[39mSunburst, go\u001b[38;5;241m.\u001b[39mIcicle] \u001b[38;5;129;01mand\u001b[39;00m args[\u001b[38;5;124m\"\u001b[39m\u001b[38;5;124mpath\u001b[39m\u001b[38;5;124m\"\u001b[39m] \u001b[38;5;129;01mis\u001b[39;00m \u001b[38;5;129;01mnot\u001b[39;00m \u001b[38;5;28;01mNone\u001b[39;00m:\n\u001b[0;32m   1950\u001b[0m     args \u001b[38;5;241m=\u001b[39m process_dataframe_hierarchy(args)\n",
      "File \u001b[1;32mc:\\users\\arnab\\appdata\\local\\programs\\python\\python39\\lib\\site-packages\\plotly\\express\\_core.py:1405\u001b[0m, in \u001b[0;36mbuild_dataframe\u001b[1;34m(args, constructor)\u001b[0m\n\u001b[0;32m   1402\u001b[0m     args[\u001b[38;5;124m\"\u001b[39m\u001b[38;5;124mcolor\u001b[39m\u001b[38;5;124m\"\u001b[39m] \u001b[38;5;241m=\u001b[39m \u001b[38;5;28;01mNone\u001b[39;00m\n\u001b[0;32m   1403\u001b[0m \u001b[38;5;66;03m# now that things have been prepped, we do the systematic rewriting of `args`\u001b[39;00m\n\u001b[1;32m-> 1405\u001b[0m df_output, wide_id_vars \u001b[38;5;241m=\u001b[39m \u001b[43mprocess_args_into_dataframe\u001b[49m\u001b[43m(\u001b[49m\n\u001b[0;32m   1406\u001b[0m \u001b[43m    \u001b[49m\u001b[43margs\u001b[49m\u001b[43m,\u001b[49m\u001b[43m \u001b[49m\u001b[43mwide_mode\u001b[49m\u001b[43m,\u001b[49m\u001b[43m \u001b[49m\u001b[43mvar_name\u001b[49m\u001b[43m,\u001b[49m\u001b[43m \u001b[49m\u001b[43mvalue_name\u001b[49m\n\u001b[0;32m   1407\u001b[0m \u001b[43m\u001b[49m\u001b[43m)\u001b[49m\n\u001b[0;32m   1409\u001b[0m \u001b[38;5;66;03m# now that `df_output` exists and `args` contains only references, we complete\u001b[39;00m\n\u001b[0;32m   1410\u001b[0m \u001b[38;5;66;03m# the special-case and wide-mode handling by further rewriting args and/or mutating\u001b[39;00m\n\u001b[0;32m   1411\u001b[0m \u001b[38;5;66;03m# df_output\u001b[39;00m\n\u001b[0;32m   1413\u001b[0m count_name \u001b[38;5;241m=\u001b[39m _escape_col_name(df_output, \u001b[38;5;124m\"\u001b[39m\u001b[38;5;124mcount\u001b[39m\u001b[38;5;124m\"\u001b[39m, [var_name, value_name])\n",
      "File \u001b[1;32mc:\\users\\arnab\\appdata\\local\\programs\\python\\python39\\lib\\site-packages\\plotly\\express\\_core.py:1207\u001b[0m, in \u001b[0;36mprocess_args_into_dataframe\u001b[1;34m(args, wide_mode, var_name, value_name)\u001b[0m\n\u001b[0;32m   1205\u001b[0m         \u001b[38;5;28;01mif\u001b[39;00m argument \u001b[38;5;241m==\u001b[39m \u001b[38;5;124m\"\u001b[39m\u001b[38;5;124mindex\u001b[39m\u001b[38;5;124m\"\u001b[39m:\n\u001b[0;32m   1206\u001b[0m             err_msg \u001b[38;5;241m+\u001b[39m\u001b[38;5;241m=\u001b[39m \u001b[38;5;124m\"\u001b[39m\u001b[38;5;130;01m\\n\u001b[39;00m\u001b[38;5;124m To use the index, pass it in directly as `df.index`.\u001b[39m\u001b[38;5;124m\"\u001b[39m\n\u001b[1;32m-> 1207\u001b[0m         \u001b[38;5;28;01mraise\u001b[39;00m \u001b[38;5;167;01mValueError\u001b[39;00m(err_msg)\n\u001b[0;32m   1208\u001b[0m \u001b[38;5;28;01melif\u001b[39;00m length \u001b[38;5;129;01mand\u001b[39;00m \u001b[38;5;28mlen\u001b[39m(df_input[argument]) \u001b[38;5;241m!=\u001b[39m length:\n\u001b[0;32m   1209\u001b[0m     \u001b[38;5;28;01mraise\u001b[39;00m \u001b[38;5;167;01mValueError\u001b[39;00m(\n\u001b[0;32m   1210\u001b[0m         \u001b[38;5;124m\"\u001b[39m\u001b[38;5;124mAll arguments should have the same length. \u001b[39m\u001b[38;5;124m\"\u001b[39m\n\u001b[0;32m   1211\u001b[0m         \u001b[38;5;124m\"\u001b[39m\u001b[38;5;124mThe length of column argument `df[\u001b[39m\u001b[38;5;132;01m%s\u001b[39;00m\u001b[38;5;124m]` is \u001b[39m\u001b[38;5;132;01m%d\u001b[39;00m\u001b[38;5;124m, whereas the \u001b[39m\u001b[38;5;124m\"\u001b[39m\n\u001b[1;32m   (...)\u001b[0m\n\u001b[0;32m   1218\u001b[0m         )\n\u001b[0;32m   1219\u001b[0m     )\n",
      "\u001b[1;31mValueError\u001b[0m: Value of 'x' is not the name of a column in 'data_frame'. Expected one of ['ID', 'Origin', 'Destination', 'month', 'day', 'nadults', 'Budget', 'price_min', 'timestamp', 'num_children', 'label'] but received: year"
     ]
    },
    {
     "data": {
      "image/png": "[encoded data removed]",
      "text/plain": [
       "<Figure size 432x288 with 1 Axes>"
      ]
     },
     "metadata": {
      "needs_background": "light"
     },
     "output_type": "display_data"
    }
   ],
   "source": [
    "l=k[\"Destination\"].value_counts()[:5].keys()\n",
    "plt.bar(l,k[\"Destination\"].value_counts()[:5].to_list())\n",
    "fig = px.bar(df, x='year', y='pop',\n",
    "             hover_data=['lifeExp', 'gdpPercap'], color='lifeExp',\n",
    "             labels={'pop':'population of Canada'}, height=400)\n",
    "fig.show()"
   ]
  },
  {
   "cell_type": "markdown",
   "id": "e85d1720",
   "metadata": {},
   "source": [
    "Therefore, we can deduce that New York, Hamburg,madrid, Fukuoka and Osaka are centres of education where students visit in large numbers every year."
   ]
  },
  {
   "cell_type": "markdown",
   "id": "3a611cba",
   "metadata": {},
   "source": [
    "FUKUOKA\n",
    "\n",
    "\n",
    "Nearly ten thousand international students attend universities in or \n",
    "near the Fukuoka prefecture each year.\n",
    "Nearly 200 international conferences are held each year in Fukuoka.( Source : https://en.wikipedia.org/wiki/Fukuoka#Tourism)\n",
    "                                                                    \n",
    "Of Japan’s eight major cities (excluding metropolitan Tokyo and Osaka), Fukuoka has the second-most university students, with six people in every 100 being students. Kyoto has the highest student ratio. \n",
    "Further, people between 15 and 29 years old make up 25.9% of Fukuoka’s population.   \n",
    "\n",
    "(https://survivejapan.weebly.com/fukuoka/10-interesting-facts-about-fukuoka#:~:text=Of%20Japan%E2%80%99s%20eight%20major%20cities,in%20every%20100%20being%20students.)                                                               "
   ]
  },
  {
   "cell_type": "markdown",
   "id": "cd560732",
   "metadata": {},
   "source": [
    "MADRID\n",
    "\n",
    "The Autonomous University of Madrid (UAM) is a Spanish public university located in Madrid and founded in 1968.\n",
    "Consistently ranked at the top of the rankings for its teaching and research excellence, the UAM is the Best University in Madrid and the second in Spain according to the QS Ranking 2022 and is among the 400 best universities in the world according to the Academic Ranking of World Universities (ARWU) or Shanghai Ranking 2021."
   ]
  },
  {
   "cell_type": "markdown",
   "id": "b3d2db42",
   "metadata": {},
   "source": [
    "Hamburg\n",
    "\n",
    "The UNESCO Institute for Lifelong Learning, one of the six educational institutes of UNESCO, is located in Hamburg. ( Source Wiki )"
   ]
  },
  {
   "cell_type": "code",
   "execution_count": 21,
   "id": "dc7a0a41",
   "metadata": {},
   "outputs": [
    {
     "data": {
      "text/plain": [
       "<BarContainer object of 5 artists>"
      ]
     },
     "execution_count": 21,
     "metadata": {},
     "output_type": "execute_result"
    },
    {
     "data": {
      "image/png": "[encoded data removed]",
      "text/plain": [
       "<Figure size 432x288 with 1 Axes>"
      ]
     },
     "metadata": {
      "needs_background": "light"
     },
     "output_type": "display_data"
    }
   ],
   "source": [
    "l=k[\"Origin\"].value_counts()[:5].keys()\n",
    "plt.bar(l,k[\"Origin\"].value_counts()[:5].to_list())"
   ]
  },
  {
   "cell_type": "markdown",
   "id": "fbba6b6d",
   "metadata": {},
   "source": [
    "### So we find that there is more educational and career awareness in these 5 cities ( Barcelona , Baltimore Belem,  Rio de Jjaneiro Tokyo ) as there is a huge influx of students from these cities\n",
    "### to the 5 cities of educational excellence found above as New York, Hamburg,madrid, Fukuoka and Osaka."
   ]
  },
  {
   "cell_type": "markdown",
   "id": "13f7ed1b",
   "metadata": {},
   "source": [
    "# Even we found that Madrid is closer to Barcelona, so this claim holds true."
   ]
  },
  {
   "cell_type": "code",
   "execution_count": null,
   "id": "c9f8b87f",
   "metadata": {},
   "outputs": [],
   "source": [
    "# Most favourable time of the year for travel ( weather, events , tourist friendly atmosphere( clear skies.....))\n",
    "\n",
    "df[\"month\"].value_counts()\n",
    "\n",
    "# August and September.\n",
    "# More preference is August."
   ]
  },
  {
   "cell_type": "code",
   "execution_count": null,
   "id": "a0441fd9",
   "metadata": {},
   "outputs": [],
   "source": [
    "f=df[(df[\"month\"]==8)][[\"Origin\",\"Destination\"]]\n",
    "f[\"Origin\"].value_counts()[:5]\n"
   ]
  },
  {
   "cell_type": "code",
   "execution_count": null,
   "id": "4e096a14",
   "metadata": {},
   "outputs": [],
   "source": [
    "d=(f[\"Destination\"].value_counts().to_dict())\n",
    "d.update({\"brasilia\":35})\n",
    "del d[\"Brasilia\"]\n",
    "\n",
    "pd.Series(d)[:5]\n"
   ]
  },
  {
   "cell_type": "code",
   "execution_count": null,
   "id": "805d6c33",
   "metadata": {},
   "outputs": [],
   "source": [
    "    f[(f[\"Origin\"]==\"Toronto\") | (f[\"Origin\"]==\"vancouver\")]"
   ]
  },
  {
   "cell_type": "code",
   "execution_count": null,
   "id": "dc7faea1",
   "metadata": {},
   "outputs": [],
   "source": [
    "f[(f[\"Destination\"]==\"Toronto\") | (f[\"Destination\"]==\"vancouver\")]"
   ]
  },
  {
   "cell_type": "markdown",
   "id": "94541359",
   "metadata": {},
   "source": [
    "Therefore, most of the inter-continental tours are in the month of August. ( Mostly from Europe and Japan to Americas( Canada and Latin ) \n",
    "It may be because August is the warmest month in Europe                                                                       "
   ]
  },
  {
   "cell_type": "code",
   "execution_count": null,
   "id": "0689234d",
   "metadata": {},
   "outputs": [],
   "source": [
    "# Most favourable budget.( Average value ) to segregate luxury tours and affordable tours\n",
    "# Seperate out budget as luxury and affordable, then identify those cities which have most luxury tours ( posh areas (Origin),Main Tourism( Destination )).\n",
    "\n",
    "plt.hist(df[\"Budget\"],bins=[10000,20000,30000,40000,50000,60000])"
   ]
  },
  {
   "cell_type": "code",
   "execution_count": null,
   "id": "4715f021",
   "metadata": {},
   "outputs": [],
   "source": [
    "df[\"Budget\"].value_counts().head(20)"
   ]
  },
  {
   "cell_type": "markdown",
   "id": "653c5dee",
   "metadata": {},
   "source": [
    "# Most favourable Budget is in the range \"1000-10000\" with 5724 ( Approx. 6000 ) being the average."
   ]
  },
  {
   "cell_type": "code",
   "execution_count": null,
   "id": "58fd9ce0",
   "metadata": {},
   "outputs": [],
   "source": [
    "a=df[\"Budget\"].value_counts().keys().to_list()\n",
    "a.sort()\n",
    "print(a)"
   ]
  },
  {
   "cell_type": "code",
   "execution_count": null,
   "id": "e822a2ca",
   "metadata": {},
   "outputs": [],
   "source": [
    "tourism=df[(df[\"Budget\"]>=1000) & (df[\"Budget\"]<=10000)]\n",
    "tourism[\"Origin\"].unique()\n"
   ]
  },
  {
   "cell_type": "markdown",
   "id": "552d26bb",
   "metadata": {},
   "source": [
    "#  Most of the tourists are from these Cities, so tourism culture is very popular in these places."
   ]
  },
  {
   "cell_type": "code",
   "execution_count": null,
   "id": "b54aa5c2",
   "metadata": {},
   "outputs": [],
   "source": [
    "list(tourism[\"Origin\"].value_counts().keys())[:10]"
   ]
  },
  {
   "cell_type": "code",
   "execution_count": null,
   "id": "1a5412de",
   "metadata": {},
   "outputs": [],
   "source": [
    "luxury=df[(df[\"Budget\"]>=10000)]\n",
    "luxury[\"Origin\"].unique()\n",
    "\n",
    "# Tourists from these places prefer luxury tours with budget > 10000."
   ]
  },
  {
   "cell_type": "code",
   "execution_count": null,
   "id": "4024c29b",
   "metadata": {},
   "outputs": [],
   "source": [
    "plt.figure(figsize=(12,5))\n",
    "plt.plot(luxury[\"Origin\"].value_counts().keys()[:10],luxury[\"Origin\"].value_counts().to_list()[:10])"
   ]
  },
  {
   "cell_type": "markdown",
   "id": "f88f7a90",
   "metadata": {},
   "source": [
    "# These cities are the most posh cities with rich economy, as evident from the frequent tours organized from these cities ( particularly KOBE, KINGSTON BELO HORIZONTE, RECIFE )"
   ]
  },
  {
   "cell_type": "code",
   "execution_count": null,
   "id": "f1cf46d0",
   "metadata": {},
   "outputs": [],
   "source": [
    "### The Port of Kobe is both an important port and manufacturing center.As of 2004, the city's total real GDP was ¥6.3 trillion, which amounts to thirty-four percent of the GDP for Hyōgo Prefecture and \n",
    "### approximately eight percent for the whole Kansai region.\n",
    "\n",
    "### According to Statistics Canada, the tourism industry in Kingston represents a vital part of the city's economy. \n",
    "### In 2004, over 3,500 jobs were contributed to Kingston's economy due to the tourism industry\n",
    "\n",
    "\n",
    "### Belo Horizonte receives large numbers of visitors, as it is in the Brazilian main economic axis, exerting influence even on other states. Multinational and Brazilian companies, such as Google and Oi, maintain offices in the city. The service sector plays a very important role in the economy of Belo Horizonte, being responsible for 85% of the city's Gross Domestic Product (GDP), \n",
    "### with other industry making up most of the remaining 15%. Organized FIFA world cup in 2010.\n",
    "\n",
    "# Source Wikipedia"
   ]
  },
  {
   "cell_type": "code",
   "execution_count": null,
   "id": "c95ecdf7",
   "metadata": {},
   "outputs": [],
   "source": [
    "plt.figure(figsize=(12,5))\n",
    "plt.plot(tourism[\"Destination\"].value_counts().keys()[:10],tourism[\"Destination\"].value_counts().to_list()[:10])"
   ]
  },
  {
   "cell_type": "markdown",
   "id": "c2c476fc",
   "metadata": {},
   "source": [
    "# So we conclude that cities like \"Sao Paulo , Punta Cana , Denver , Toronto , los angeles\" are famous tourist places. Here, tourism is an important industry."
   ]
  },
  {
   "cell_type": "code",
   "execution_count": null,
   "id": "1ae56df4",
   "metadata": {},
   "outputs": [],
   "source": [
    "low=df[(df[\"Budget\"]<1000)]\n",
    "low[(low[\"nadults\"]>1) & (low[\"num_children\"]>=1)]"
   ]
  },
  {
   "cell_type": "markdown",
   "id": "269745c5",
   "metadata": {},
   "source": [
    "Cities like Recife, santo domingo, La Paz,... facilitate cheap travel."
   ]
  },
  {
   "cell_type": "code",
   "execution_count": null,
   "id": "8b23b8a8",
   "metadata": {},
   "outputs": [],
   "source": [
    "dt=pd.DataFrame(columns=[\"Origin\",\"Destination\",\"Average Budget\"])\n",
    "for i in df[\"label\"]:\n",
    "    o=(df[df[\"label\"]==i])[\"Origin\"]\n",
    "    o1=o.to_list()\n",
    "    dt.loc[i,\"Origin\"]=o1[0]\n",
    "    d=(df[df[\"label\"]==i])[\"Destination\"]\n",
    "    d1=d.to_list()\n",
    "    dt.loc[i,[\"Destination\"]]=d1[0]\n",
    "    avg=(df[df[\"label\"]==i])[\"Budget\"]\n",
    "    a1=avg.to_list()\n",
    "    dt.loc[i,[\"Average Budget\"]]=(sum(a1)/len(a1))"
   ]
  },
  {
   "cell_type": "code",
   "execution_count": null,
   "id": "e97ada55",
   "metadata": {},
   "outputs": [],
   "source": [
    "dt"
   ]
  },
  {
   "cell_type": "code",
   "execution_count": null,
   "id": "ec9cfc26",
   "metadata": {},
   "outputs": [],
   "source": [
    "dffsort=df.copy()\n",
    "dffsort   ### Sorting by ID"
   ]
  },
  {
   "cell_type": "code",
   "execution_count": null,
   "id": "9ac1c032",
   "metadata": {},
   "outputs": [],
   "source": [
    "dffsort.sort_values(by=[\"ID\"],ascending=True,inplace=True)"
   ]
  },
  {
   "cell_type": "code",
   "execution_count": null,
   "id": "218d79d5",
   "metadata": {},
   "outputs": [],
   "source": [
    "dffsort.reset_index(drop=True,inplace=True)"
   ]
  },
  {
   "cell_type": "code",
   "execution_count": null,
   "id": "3fc65b99",
   "metadata": {},
   "outputs": [],
   "source": [
    "dffsort.head()"
   ]
  },
  {
   "cell_type": "code",
   "execution_count": null,
   "id": "96139832",
   "metadata": {},
   "outputs": [],
   "source": [
    "l1=[]\n",
    "k=1\n",
    "for i in range(len(dffsort[\"ID\"])):\n",
    "    if i%2==1:\n",
    "        l=0\n",
    "        t=dffsort[(dffsort[\"ID\"]==dffsort.loc[i,\"ID\"])][\"timestamp\"]\n",
    "        t1=t.to_list()\n",
    "        l=len(t1)\n",
    "        l1.append(t1[-1])\n",
    "        i=i+l\n",
    "    elif i%2==0:\n",
    "        t=dffsort[(dffsort[\"ID\"]==dffsort.loc[i,\"ID\"])][\"timestamp\"] \n",
    "        t2=t.to_list()\n",
    "        le=len(t2)\n",
    "        l1.append(t2[0])\n",
    "        i=i+le"
   ]
  },
  {
   "cell_type": "code",
   "execution_count": null,
   "id": "0af39fed",
   "metadata": {},
   "outputs": [],
   "source": [
    "l2=[]\n",
    "for i in range(1,len(l1)):\n",
    "    l2.append(l1[i]-l1[i-1])\n",
    "\n",
    "for i in range(0,len(l2)):\n",
    "    if l2[i]<0:\n",
    "        l2[i]=l2[i]*-1"
   ]
  },
  {
   "cell_type": "code",
   "execution_count": null,
   "id": "41776d70",
   "metadata": {},
   "outputs": [],
   "source": [
    "plt.figure(figsize=(12,5))\n",
    "plt.hist(l2)\n"
   ]
  },
  {
   "cell_type": "code",
   "execution_count": null,
   "id": "492946fb",
   "metadata": {},
   "outputs": [],
   "source": [
    "l2"
   ]
  }
 ],
 "metadata": {
  "kernelspec": {
   "display_name": "Python 3 (ipykernel)",
   "language": "python",
   "name": "python3"
  },
  "language_info": {
   "codemirror_mode": {
    "name": "ipython",
    "version": 3
   },
   "file_extension": ".py",
   "mimetype": "text/x-python",
   "name": "python",
   "nbconvert_exporter": "python",
   "pygments_lexer": "ipython3",
   "version": "3.9.5"
  }
 },
 "nbformat": 4,
 "nbformat_minor": 5
}
